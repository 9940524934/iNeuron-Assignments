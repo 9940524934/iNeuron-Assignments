{
 "cells": [
  {
   "cell_type": "markdown",
   "id": "984b4513",
   "metadata": {},
   "source": [
    "# Assignment 21 Solutions"
   ]
  },
  {
   "cell_type": "markdown",
   "id": "4fe8b19e",
   "metadata": {},
   "source": [
    "#### 1. Add the current date to the text file today.txt as a string."
   ]
  },
  {
   "cell_type": "code",
   "execution_count": null,
   "id": "4c5ad5ac",
   "metadata": {},
   "outputs": [],
   "source": []
  },
  {
   "cell_type": "markdown",
   "id": "6cf23762",
   "metadata": {},
   "source": [
    "#### 2. Read the text file today.txt into the string today_string"
   ]
  },
  {
   "cell_type": "code",
   "execution_count": null,
   "id": "107143ea",
   "metadata": {},
   "outputs": [],
   "source": []
  },
  {
   "cell_type": "markdown",
   "id": "165addb6",
   "metadata": {},
   "source": [
    "#### 3. Parse the date from today_string."
   ]
  },
  {
   "cell_type": "code",
   "execution_count": null,
   "id": "c622da5b",
   "metadata": {},
   "outputs": [],
   "source": []
  },
  {
   "cell_type": "markdown",
   "id": "664d3278",
   "metadata": {},
   "source": [
    "#### 4. List the files in your current directory"
   ]
  },
  {
   "cell_type": "code",
   "execution_count": null,
   "id": "cbacd0e4",
   "metadata": {},
   "outputs": [],
   "source": []
  },
  {
   "cell_type": "markdown",
   "id": "291a203b",
   "metadata": {},
   "source": [
    "#### 5. Create a list of all of the files in your parent directory (minimum five files should be available)."
   ]
  },
  {
   "cell_type": "code",
   "execution_count": null,
   "id": "efe9618b",
   "metadata": {},
   "outputs": [],
   "source": []
  },
  {
   "cell_type": "markdown",
   "id": "203dd9fe",
   "metadata": {},
   "source": [
    "#### 6. Use multiprocessing to create three separate processes. Make each one wait a random number of seconds between one and five, print the current time, and then exit."
   ]
  },
  {
   "cell_type": "code",
   "execution_count": null,
   "id": "bcb2799b",
   "metadata": {},
   "outputs": [],
   "source": []
  },
  {
   "cell_type": "markdown",
   "id": "71d07e78",
   "metadata": {},
   "source": [
    "#### 7. Create a date object of your day of birth."
   ]
  },
  {
   "cell_type": "code",
   "execution_count": null,
   "id": "b3e67c1c",
   "metadata": {},
   "outputs": [],
   "source": []
  },
  {
   "cell_type": "markdown",
   "id": "e5775db9",
   "metadata": {},
   "source": [
    "#### 8. What day of the week was your day of birth?"
   ]
  },
  {
   "cell_type": "code",
   "execution_count": null,
   "id": "65b6ae43",
   "metadata": {},
   "outputs": [],
   "source": []
  },
  {
   "cell_type": "markdown",
   "id": "abe779de",
   "metadata": {},
   "source": [
    "#### 9. When will you be (or when were you) 10,000 days old?"
   ]
  },
  {
   "cell_type": "code",
   "execution_count": null,
   "id": "db7e28a0",
   "metadata": {},
   "outputs": [],
   "source": []
  }
 ],
 "metadata": {
  "kernelspec": {
   "display_name": "Python 3",
   "language": "python",
   "name": "python3"
  },
  "language_info": {
   "codemirror_mode": {
    "name": "ipython",
    "version": 3
   },
   "file_extension": ".py",
   "mimetype": "text/x-python",
   "name": "python",
   "nbconvert_exporter": "python",
   "pygments_lexer": "ipython3",
   "version": "3.8.8"
  }
 },
 "nbformat": 4,
 "nbformat_minor": 5
}

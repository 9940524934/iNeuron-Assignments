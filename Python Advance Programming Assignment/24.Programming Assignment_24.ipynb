{
 "cells": [
  {
   "cell_type": "markdown",
   "id": "27714753",
   "metadata": {},
   "source": [
    "# Assignment 24 Solutions"
   ]
  },
  {
   "cell_type": "markdown",
   "id": "bfb4497f",
   "metadata": {},
   "source": [
    "#### 1. Implement a class iterator to flatten a nested list of lists of integers. Each list element is either an integer or a list. There can be many levels of nested lists in lists.\n",
    "\n",
    "The class initializes with a nested list. It also has two methods:\n",
    "\n",
    "  1. next() returns an integer in the order of appearance.\n",
    "  2. hasNext() returns True / False regarding if all integers have been retrieved or not.\n",
    "\n",
    "Write the Class implementation for three required methods.\n",
    "\n",
    "**Examples:**   \n",
    "\n",
    "`ni, actual = NestedIterator([[1, 1], 2, [1, 1]]), []\n",
    "while ni.hasNext():\n",
    "    actual.append(ni.next())\n",
    "actual ➞ [1, 1, 2, 1, 1]`\n",
    "\n",
    "`ni, actual = NestedIterator([1, [4, [6]]]), []\n",
    "while ni.hasNext():\n",
    "    actual.append(ni.next())\n",
    "actual ➞ [1, 4, 6]`\n",
    "\n",
    "`ni, actual = NestedIterator([[[]], []]), []\n",
    "while ni.hasNext():\n",
    "    actual.append(ni.next())\n",
    "actual ➞ []`"
   ]
  },
  {
   "cell_type": "code",
   "execution_count": null,
   "id": "99450764",
   "metadata": {},
   "outputs": [],
   "source": []
  },
  {
   "cell_type": "markdown",
   "id": "8a323682",
   "metadata": {},
   "source": [
    "#### 2. Implement the class Shape that receives perimeter and density function into __init__ method. The list of consecutive corners defines shape of a 2-dimensional object. The density function defines the mass distribution inside the shape. To compute mass in a certain point m(x, y) = small_square * density(x, y). The __init__ method calls other internal methods that compute three characteristics of the shape:\n",
    "\n",
    "   - area\n",
    "   - total mass\n",
    "   - center of mass (xc, yc)\n",
    "\n",
    "The computational grid has distance between two neighboring points as 2 * delta, the distance between a grid point and the perimeter wall is delta.  \n",
    "\n",
    "**Examples:**   \n",
    "`sh_ex1 = Shape([(1, 1), (3, 1), (3, 2), (1, 2)], lambda x, y: 100 + 100 * x)`  \n",
    "`sh_ex1.area ➞ 2.0`  \n",
    "`sh_ex1.mass ➞ 600.0`  \n",
    "`sh_ex1.mass_center ➞ (2.1, 1.5)`  \n",
    "\n",
    "The example can be verified via analytical integration. Other shapes in Tests are slightly more complicated and require numerical integration as illustrated here:"
   ]
  },
  {
   "cell_type": "code",
   "execution_count": null,
   "id": "db3e6a3b",
   "metadata": {},
   "outputs": [],
   "source": []
  },
  {
   "cell_type": "markdown",
   "id": "2c891c85",
   "metadata": {},
   "source": [
    "#### 3. Given a 3x3 matrix of a completed tic-tac-toe game, create a function that returns whether the game is a win for \"X\", \"O\", or a \"Draw\", where \"X\" and \"O\" represent themselves on the matrix, and \"E\" represents an empty spot.\n",
    "**Examples:**   \n",
    "`tic_tac_toe([\n",
    "  [\"X\", \"O\", \"X\"],\n",
    "  [\"O\", \"X\",  \"O\"],\n",
    "  [\"O\", \"X\",  \"X\"]\n",
    "]) ➞ \"X\"`  \n",
    "\n",
    "`tic_tac_toe([\n",
    "  [\"O\", \"O\", \"O\"],\n",
    "  [\"O\", \"X\", \"X\"],\n",
    "  [\"E\", \"X\", \"X\"]\n",
    "]) ➞ \"O\"`  \n",
    "\n",
    "`tic_tac_toe([\n",
    "  [\"X\", \"X\", \"O\"],\n",
    "  [\"O\", \"O\", \"X\"],\n",
    "  [\"X\", \"X\", \"O\"]\n",
    "]) ➞ \"Draw\"`  "
   ]
  },
  {
   "cell_type": "code",
   "execution_count": null,
   "id": "f7053457",
   "metadata": {},
   "outputs": [],
   "source": []
  },
  {
   "cell_type": "markdown",
   "id": "48d4dbe7",
   "metadata": {},
   "source": [
    "#### 4. Your computer might have been infected by a virus! Create a function that finds the viruses in files and removes them from your computer.\n",
    "**Examples:**   \n",
    "`remove_virus(\"PC Files: spotifysetup.exe, virus.exe, dog.jpg\") ➞ \"PC Files: spotifysetup.exe, dog.jpg\"`  \n",
    "`remove_virus(\"PC Files: antivirus.exe, cat.pdf, lethalmalware.exe, dangerousvirus.exe \") ➞ \"PC Files: antivirus.exe, cat.pdf\"`  \n",
    "`remove_virus(\"PC Files: notvirus.exe, funnycat.gif\") ➞ \"PC Files: notvirus.exe, funnycat.gif\")`  "
   ]
  },
  {
   "cell_type": "code",
   "execution_count": null,
   "id": "edb2c944",
   "metadata": {},
   "outputs": [],
   "source": []
  },
  {
   "cell_type": "markdown",
   "id": "93259e11",
   "metadata": {},
   "source": [
    "#### 5. In a video game, a meteor will fall toward the main character's home planet. Given the meteor's trajectory as a string in the form y = mx + b and the character's position as a tuple of (x, y), return True if the meteor will hit the character and False if it will not.\n",
    "**Examples:**   \n",
    "`will_hit(\"y = 2x - 5\", (0, 0)) ➞ False`  \n",
    "`will_hit(\"y = -4x + 6\", (1, 2)) ➞ True`   \n",
    "`will_hit(\"y = 2x + 6\", (3, 2)) ➞ False`  "
   ]
  },
  {
   "cell_type": "code",
   "execution_count": 1,
   "id": "caf31ad0",
   "metadata": {},
   "outputs": [
    {
     "ename": "SyntaxError",
     "evalue": "invalid syntax (<string>, line 1)",
     "output_type": "error",
     "traceback": [
      "Traceback \u001b[1;36m(most recent call last)\u001b[0m:\n",
      "  File \u001b[0;32m\"C:\\ProgramData\\Anaconda3\\lib\\site-packages\\IPython\\core\\interactiveshell.py\"\u001b[0m, line \u001b[0;32m3441\u001b[0m, in \u001b[0;35mrun_code\u001b[0m\n    exec(code_obj, self.user_global_ns, self.user_ns)\n",
      "  File \u001b[0;32m\"C:\\Users\\VISHNU~1.ADE\\AppData\\Local\\Temp/ipykernel_21948/2563182341.py\"\u001b[0m, line \u001b[0;32m4\u001b[0m, in \u001b[0;35m<module>\u001b[0m\n    will_hit(\"y = 2x - 5\", (0, 0))\n",
      "\u001b[1;36m  File \u001b[1;32m\"C:\\Users\\VISHNU~1.ADE\\AppData\\Local\\Temp/ipykernel_21948/2563182341.py\"\u001b[1;36m, line \u001b[1;32m2\u001b[1;36m, in \u001b[1;35mwill_hit\u001b[1;36m\u001b[0m\n\u001b[1;33m    print(eval(in_exp))\u001b[0m\n",
      "\u001b[1;36m  File \u001b[1;32m\"<string>\"\u001b[1;36m, line \u001b[1;32m1\u001b[0m\n\u001b[1;33m    y = 2x - 5\u001b[0m\n\u001b[1;37m      ^\u001b[0m\n\u001b[1;31mSyntaxError\u001b[0m\u001b[1;31m:\u001b[0m invalid syntax\n"
     ]
    }
   ],
   "source": [
    "def will_hit(in_exp, in_cord):\n",
    "    print(eval(in_exp))"
   ]
  }
 ],
 "metadata": {
  "kernelspec": {
   "display_name": "Python 3 (ipykernel)",
   "language": "python",
   "name": "python3"
  },
  "language_info": {
   "codemirror_mode": {
    "name": "ipython",
    "version": 3
   },
   "file_extension": ".py",
   "mimetype": "text/x-python",
   "name": "python",
   "nbconvert_exporter": "python",
   "pygments_lexer": "ipython3",
   "version": "3.8.8"
  }
 },
 "nbformat": 4,
 "nbformat_minor": 5
}

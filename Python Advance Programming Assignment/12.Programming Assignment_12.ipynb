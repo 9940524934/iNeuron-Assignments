{
 "cells": [
  {
   "cell_type": "markdown",
   "id": "8d26ab32",
   "metadata": {},
   "source": [
    "# Assignment 12 Solutions"
   ]
  },
  {
   "cell_type": "markdown",
   "id": "8ba5f4a9",
   "metadata": {},
   "source": [
    "#### 1. For this challenge, forget how to add two numbers together. The best explanation on what to do for this function is this meme:\n",
    "**Examples:**   \n",
    "`meme_sum(26, 39) ➞ 515`  \n",
    "`# 2+3 = 5, 6+9 = 15`  \n",
    "`# 26 + 39 = 515`  \n",
    "`meme_sum(122, 81) ➞ 1103`  \n",
    "`# 1+0 = 1, 2+8 = 10, 2+1 = 3`  \n",
    "`# 122 + 81 = 1103`  \n",
    "`meme_sum(1222, 30277) ➞ 31499`  "
   ]
  },
  {
   "cell_type": "code",
   "execution_count": null,
   "id": "2a7527a5",
   "metadata": {},
   "outputs": [],
   "source": []
  },
  {
   "cell_type": "markdown",
   "id": "5001127b",
   "metadata": {},
   "source": [
    "#### 2. Given an integer, create a function that returns the next prime. If the number is prime, return the number itself.\n",
    "**Examples:**   \n",
    "`next_prime(12) ➞ 13`  \n",
    "`next_prime(24) ➞ 29`  \n",
    "`next_prime(11) ➞ 11`  \n",
    "`# 11 is a prime, so we return the number itself.`  "
   ]
  },
  {
   "cell_type": "code",
   "execution_count": null,
   "id": "de67c4ea",
   "metadata": {},
   "outputs": [],
   "source": []
  },
  {
   "cell_type": "markdown",
   "id": "0721ac0f",
   "metadata": {},
   "source": [
    "#### 3. If a person traveled up a hill for 18mins at 20mph and then traveled back down the same path at 60mph then their average speed traveled was 30mph.\n",
    "\n",
    "Write a function that returns the average speed traveled given an uphill time, uphill rate and a downhill rate. Uphill time is given in minutes. Return the rate as an integer (mph). No rounding is necessary.\n",
    "\n",
    "**Examples:**   \n",
    "`ave_spd(18, 20, 60) ➞ 30`  \n",
    "`ave_spd(30, 10, 30) ➞ 15`  \n",
    "`ave_spd(30, 8, 24) ➞ 12`  "
   ]
  },
  {
   "cell_type": "code",
   "execution_count": null,
   "id": "1624d1a4",
   "metadata": {},
   "outputs": [],
   "source": []
  },
  {
   "cell_type": "markdown",
   "id": "f494d659",
   "metadata": {},
   "source": [
    "#### 4. The Kempner Function, applied to a composite number, permits to find the smallest integer greater than zero whose factorial is exactly divided by the number.\n",
    "\n",
    "`kempner(6) ➞ 3\n",
    "1! = 1 % 6 > 0\n",
    "2! = 2 % 6 > 0\n",
    "3! = 6 % 6 === 0`  \n",
    "\n",
    "`kempner(10) ➞ 5\n",
    "1! = 1 % 10 > 0\n",
    "2! = 2 % 10 > 0\n",
    "3! = 6 % 10 > 0\n",
    "4! = 24 % 10 > 0\n",
    "5! = 120 % 10 === 0`\n",
    "\n",
    "A Kempner Function applied to a prime will always return the prime itself.   \n",
    "`kempner(2) ➞ 2`  \n",
    "`kempner(5) ➞ 5`  \n",
    "\n",
    "Given an integer n, implement a Kempner Function.  \n",
    "\n",
    "**Examples:**   \n",
    "`kempner(6) ➞ 3`  \n",
    "`kempner(10) ➞ 5`  \n",
    "`kempner(2) ➞ 2`  "
   ]
  },
  {
   "cell_type": "code",
   "execution_count": null,
   "id": "9a753416",
   "metadata": {},
   "outputs": [],
   "source": []
  },
  {
   "cell_type": "markdown",
   "id": "0e61862f",
   "metadata": {},
   "source": [
    "#### 5. You work in a factory, and your job is to take items from a conveyor belt and pack them into boxes. Each box can hold a maximum of 10 kgs. Given a list containing the weight (in kg) of each item, how many boxes would you need to pack all of the items?\n",
    "\n",
    "**Examples:**   \n",
    "`boxes([2, 1, 2, 5, 4, 3, 6, 1, 1, 9, 3, 2]) ➞ 5`   \n",
    "`# Box 1 = [2, 1, 2, 5] (10kg)`  \n",
    "`# Box 2 = [4, 3] (7kg)`  \n",
    "`# Box 3 = [6, 1, 1] (8kg)`  \n",
    "`# Box 4 = [9] (9kg)`  \n",
    "`# Box 5 = [3, 2] (5kg)`  "
   ]
  },
  {
   "cell_type": "code",
   "execution_count": null,
   "id": "6cb553fd",
   "metadata": {},
   "outputs": [],
   "source": []
  }
 ],
 "metadata": {
  "kernelspec": {
   "display_name": "Python 3 (ipykernel)",
   "language": "python",
   "name": "python3"
  },
  "language_info": {
   "codemirror_mode": {
    "name": "ipython",
    "version": 3
   },
   "file_extension": ".py",
   "mimetype": "text/x-python",
   "name": "python",
   "nbconvert_exporter": "python",
   "pygments_lexer": "ipython3",
   "version": "3.8.8"
  }
 },
 "nbformat": 4,
 "nbformat_minor": 5
}

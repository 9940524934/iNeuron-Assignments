{
 "cells": [
  {
   "cell_type": "markdown",
   "id": "527cb3ea",
   "metadata": {},
   "source": [
    "# Assignment 14 Solutions"
   ]
  },
  {
   "cell_type": "markdown",
   "id": "ec6d283a",
   "metadata": {},
   "source": [
    "#### 1. Given a list of numbers, create a function that removes 25% from every number in the list except the smallest number, and adds the total amount removed to the smallest number.\n",
    "**Examples:**  \n",
    "`show_the_love([4, 1, 4]) ➞ [3, 3, 3]`  \n",
    "`show_the_love([16, 10, 8]) ➞ [12, 7.5, 14.5]`   \n",
    "`show_the_love([2, 100]) ➞ [27, 75]`   "
   ]
  },
  {
   "cell_type": "code",
   "execution_count": 49,
   "id": "5e27268a",
   "metadata": {},
   "outputs": [
    {
     "name": "stdout",
     "output_type": "stream",
     "text": [
      "[4, 1, 4]  ➞ [3.0, 3.0, 3.0]\n",
      "[16, 10, 8]  ➞ [12.0, 7.5, 14.5]\n",
      "[2, 100]  ➞ [27.0, 75.0]\n"
     ]
    }
   ],
   "source": [
    "def show_the_love(in_list):\n",
    "    out_list = in_list.copy()\n",
    "    sum_num = 0\n",
    "    for ele in range(len(out_list)):\n",
    "        if out_list[ele] is not min(out_list):\n",
    "            sum_num += out_list[ele]/4\n",
    "            out_list[ele] =  out_list[ele]-(out_list[ele]/4)\n",
    "    out_list[out_list.index(min(out_list))] = sum_num +min(out_list)\n",
    "    print(f'{in_list}  ➞ {out_list}')\n",
    "            \n",
    "show_the_love([4, 1, 4])\n",
    "show_the_love([16, 10, 8])\n",
    "show_the_love([2, 100])"
   ]
  },
  {
   "cell_type": "markdown",
   "id": "7862685a",
   "metadata": {},
   "source": [
    "#### 2. Create a function that takes in two words as input and returns a list of three elements, in the following order:\n",
    "\n",
    "   1.Shared letters between two words.\n",
    "   2.Letters unique to word 1.\n",
    "   3.Letters unique to word 2.\n",
    "\n",
    "Each element should have unique letters, and have each letter be alphabetically sorted.\n",
    "\n",
    "**Examples:**  \n",
    "`letters(\"sharp\", \"soap\") ➞ [\"aps\", \"hr\", \"o\"]`  \n",
    "`letters(\"board\", \"bored\") ➞ [\"bdor\", \"a\", \"e\"]`  \n",
    "`letters(\"happiness\", \"envelope\") ➞ [\"enp\", \"ahis\", \"lov\"]`  \n",
    "`letters(\"kerfuffle\", \"fluffy\") ➞ [\"flu\", \"ekr\", \"y\"]`  \n",
    "`# Even with multiple matching letters (e.g. 3 f's), there should`   \n",
    "`# only exist a single \"f\" in your first element.`  \n",
    "`letters(\"match\", \"ham\") ➞ [\"ahm\", \"ct\", \"\"]`  \n",
    "`# \"ham\" does not contain any letters that are not found already`   \n",
    "`# in \"match\".`  "
   ]
  },
  {
   "cell_type": "code",
   "execution_count": 72,
   "id": "22d8358f",
   "metadata": {},
   "outputs": [
    {
     "name": "stdout",
     "output_type": "stream",
     "text": [
      "('sharp', 'soap') ➞ ['aps', 'hr', 'o']\n",
      "('board', 'bored') ➞ ['bdor', 'a', 'e']\n",
      "('happiness', 'envelope') ➞ ['enp', 'ahis', 'lov']\n",
      "('kerfuffle', 'fluffy') ➞ ['flu', 'ekr', 'y']\n",
      "('match', 'ham') ➞ ['ahm', 'ct', '']\n"
     ]
    }
   ],
   "source": [
    "def letters(s_one,s_two):\n",
    "    s_one_set = set(s_one)\n",
    "    s_two_set = set(s_two)\n",
    "    out_list = []\n",
    "    out_list.append(''.join(sorted(s_one_set.intersection(s_two_set))))\n",
    "    out_list.append(''.join(sorted(s_one_set.difference(s_two_set))))\n",
    "    out_list.append(''.join(sorted(s_two_set.difference(s_one_set)))) \n",
    "    print(f'{s_one,s_two} ➞ {out_list}')\n",
    "    \n",
    "letters(\"sharp\", \"soap\")\n",
    "letters(\"board\", \"bored\")\n",
    "letters(\"happiness\", \"envelope\")\n",
    "letters(\"kerfuffle\", \"fluffy\")\n",
    "letters(\"match\", \"ham\")"
   ]
  },
  {
   "cell_type": "markdown",
   "id": "e410b887",
   "metadata": {},
   "source": [
    "#### 3. Write a function that pairs the first number in an array with the last, the second number with the second to last, etc.\n",
    "**Examples:**  \n",
    "`pairs([1, 2, 3, 4, 5, 6, 7]) ➞ [[1, 7], [2, 6], [3, 5], [4, 4]]`   \n",
    "`pairs([1, 2, 3, 4, 5, 6]) ➞ [[1, 6], [2, 5], [3, 4]]`   \n",
    "`pairs([5, 9, 8, 1, 2]) ➞ [[5, 2], [9, 1], [8, 8]]`   \n",
    "`pairs([]) ➞ []`"
   ]
  },
  {
   "cell_type": "code",
   "execution_count": null,
   "id": "bc563dee",
   "metadata": {},
   "outputs": [],
   "source": []
  },
  {
   "cell_type": "markdown",
   "id": "6e9d2e61",
   "metadata": {},
   "source": [
    "#### 4. Write a function that adds two numbers. The catch, however, is that the numbers will be strings.\n",
    "\n",
    "**Examples:**  \n",
    "`add_str_nums(\"4\", \"5\") ➞ \"9\"`     \n",
    "`add_str_nums(\"abcdefg\", \"3\") ➞ \"-1\"`  \n",
    "`add_str_nums(\"1\", \"\") ➞ \"1\"`   \n",
    "`add_str_nums(\"1874682736267235927359283579235789257\", \"32652983572985729\") ➞ \"1874682736267235927391936562808774986\"`"
   ]
  },
  {
   "cell_type": "code",
   "execution_count": null,
   "id": "0025c58b",
   "metadata": {},
   "outputs": [],
   "source": []
  },
  {
   "cell_type": "markdown",
   "id": "b29281f5",
   "metadata": {},
   "source": [
    "#### 5. lPaeesh le pemu mnxit ehess rtnisg! Oh, sorry, that was supposed to say: Please help me unmix these strings!\n",
    "\n",
    "Somehow my strings have all become mixed up; every pair of characters has been swapped. Help me undo this so I can understand my strings again.\n",
    "\n",
    "**Examples:**  \n",
    "`unmix(\"123456\") ➞ \"214365\"`   \n",
    "`unmix(\"hTsii  s aimex dpus rtni.g\") ➞ \"This is a mixed up string.\"`  \n",
    "`unmix(\"badce\") ➞ \"abcde\"`   "
   ]
  },
  {
   "cell_type": "code",
   "execution_count": null,
   "id": "0117f776",
   "metadata": {},
   "outputs": [],
   "source": []
  }
 ],
 "metadata": {
  "kernelspec": {
   "display_name": "Python 3",
   "language": "python",
   "name": "python3"
  },
  "language_info": {
   "codemirror_mode": {
    "name": "ipython",
    "version": 3
   },
   "file_extension": ".py",
   "mimetype": "text/x-python",
   "name": "python",
   "nbconvert_exporter": "python",
   "pygments_lexer": "ipython3",
   "version": "3.8.8"
  }
 },
 "nbformat": 4,
 "nbformat_minor": 5
}

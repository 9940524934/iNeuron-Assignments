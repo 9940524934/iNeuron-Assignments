{
 "cells": [
  {
   "cell_type": "markdown",
   "id": "b52e9a10",
   "metadata": {},
   "source": [
    "# Assignment 4 Solutions"
   ]
  },
  {
   "cell_type": "markdown",
   "id": "291bb925",
   "metadata": {},
   "source": [
    "#### 1.In mathematics, the Fibonacci numbers, commonly denoted Fn, form a sequence, called the Fibonacci sequence, such that each number is the sum of the two preceding ones, starting from 0 and 1:\n",
    "The beginning of the sequence is this:\n",
    "`0, 1, 1, 2, 3, 5, 8, 13, 21, 34, 55, 89, 144, ...`  \n",
    "The function fastFib(num) returns the fibonacci number Fn, of the given num as an argument.   \n",
    "**Examples:**     \n",
    "`fib_fast(5) ➞ 5`  \n",
    "`fib_fast(10) ➞ 55`  \n",
    "`fib_fast(20) ➞ 6765`  \n",
    "`fib_fast(50) ➞ 12586269025`  "
   ]
  },
  {
   "cell_type": "code",
   "execution_count": null,
   "id": "3c24585d",
   "metadata": {},
   "outputs": [],
   "source": []
  },
  {
   "cell_type": "markdown",
   "id": "db9069fa",
   "metadata": {},
   "source": [
    "#### 2.Create a function that takes a strings characters as ASCII and returns each characters hexadecimal value as a string.\n",
    "**Examples:**   \n",
    "`convert_to_hex(\"hello world\") ➞ \"68 65 6c 6c 6f 20 77 6f 72 6c 64\"`  \n",
    "`convert_to_hex(\"Big Boi\") ➞ \"42 69 67 20 42 6f 69\"`  \n",
    "`convert_to_hex(\"Marty Poppinson\") ➞ \"4d 61 72 74 79 20 50 6f 70 70 69 6e 73 6f 6e\"`  "
   ]
  },
  {
   "cell_type": "code",
   "execution_count": 58,
   "id": "c8740628",
   "metadata": {},
   "outputs": [
    {
     "name": "stdout",
     "output_type": "stream",
     "text": [
      "hello world ➞ 68 65 6c 6c 6f 20 77 6f 72 6c 64\n",
      "Big Boi ➞ 42 69 67 20 42 6f 69\n",
      "Marty Poppinson ➞ 4d 61 72 74 79 20 50 6f 70 70 69 6e 73 6f 6e\n"
     ]
    }
   ],
   "source": [
    "def convert_to_hex(in_string):\n",
    "    out_string = []\n",
    "    for ele in in_string:\n",
    "        out_string.append(hex(ord(ele))[2:])\n",
    "    print(f'{in_string} ➞ {\" \".join(out_string)}')\n",
    "\n",
    "convert_to_hex(\"hello world\")\n",
    "convert_to_hex(\"Big Boi\")\n",
    "convert_to_hex(\"Marty Poppinson\")"
   ]
  },
  {
   "cell_type": "markdown",
   "id": "c37e899b",
   "metadata": {},
   "source": [
    "#### 3.Someone has attempted to censor my strings by replacing every vowel with a `*`, `l*k* th*s`. Luckily, I've been able to find the vowels that were removed.\n",
    "Given a censored string and a string of the censored vowels, return the original uncensored string.   \n",
    "**Examples:**   \n",
    "`uncensor(\"Wh*r* d*d my v*w*ls g*?\", \"eeioeo\") ➞ \"Where did my vowels go?\"`  \n",
    "`uncensor(\"abcd\", \"\") ➞ \"abcd\"`  \n",
    "`uncensor(\"*PP*RC*S*\", \"UEAE\") ➞ \"UPPERCASE\"`  "
   ]
  },
  {
   "cell_type": "code",
   "execution_count": 33,
   "id": "a8a930e8",
   "metadata": {},
   "outputs": [
    {
     "name": "stdout",
     "output_type": "stream",
     "text": [
      "('Wh*r* d*d my v*w*ls g*?', 'eeioeo') ➞ Where did my vowels go?\n",
      "('abcd', '') ➞ abcd\n",
      "('*PP*RC*S*', 'UEAE') ➞ UPPERCASE\n"
     ]
    }
   ],
   "source": [
    "def uncensor(in_string,in_vowels):\n",
    "    window = 0\n",
    "    out_string = ''\n",
    "    for ele in in_string:\n",
    "        if ele == '*':\n",
    "            out_string += in_vowels[window]\n",
    "            window +=1\n",
    "        else:\n",
    "            out_string += ele\n",
    "    print(f'{in_string,in_vowels} ➞ {out_string}')\n",
    "\n",
    "uncensor(\"Wh*r* d*d my v*w*ls g*?\", \"eeioeo\")\n",
    "uncensor(\"abcd\", \"\")\n",
    "uncensor(\"*PP*RC*S*\", \"UEAE\") "
   ]
  },
  {
   "cell_type": "markdown",
   "id": "646f2255",
   "metadata": {},
   "source": [
    "#### 4.Write a function that takes an IP address and returns the domain name using PTR DNS records.\n",
    "**Examples:**   \n",
    "`get_domain(\"8.8.8.8\") ➞ \"dns.google\"`  \n",
    "`get_domain(\"8.8.4.4\") ➞ \"dns.google\"`  "
   ]
  },
  {
   "cell_type": "code",
   "execution_count": null,
   "id": "034f610f",
   "metadata": {},
   "outputs": [],
   "source": []
  },
  {
   "cell_type": "markdown",
   "id": "3c92f53a",
   "metadata": {},
   "source": [
    "#### 5.Create a function that takes an integer n and returns the factorial of factorials. See below examples for a better understanding:\n",
    "**Examples:**   \n",
    "`fact_of_fact(4) ➞ 288`  \n",
    "`# 4! * 3! * 2! * 1! = 288`  \n",
    "`fact_of_fact(5) ➞ 34560`   \n",
    "`fact_of_fact(6) ➞ 24883200`\n"
   ]
  },
  {
   "cell_type": "code",
   "execution_count": 56,
   "id": "a6a1c9f9",
   "metadata": {},
   "outputs": [
    {
     "name": "stdout",
     "output_type": "stream",
     "text": [
      "factorial(4) ➞ 288\n",
      "factorial(5) ➞ 34560\n",
      "factorial(6) ➞ 24883200\n"
     ]
    }
   ],
   "source": [
    "def fact_of_fact(in_num):\n",
    "    # Internal Function to generate factorial of a Number\n",
    "    def get_factorial(n):\n",
    "        if n == 1:\n",
    "            return 1\n",
    "        else:\n",
    "            return n*get_factorial(n-1)      \n",
    "    out_num = 1\n",
    "    for ele in range(1,in_num+1):\n",
    "        out_num *= get_factorial(ele)\n",
    "    print(f'factorial({in_num}) ➞ {out_num}')\n",
    "\n",
    "fact_of_fact(4)\n",
    "fact_of_fact(5)\n",
    "fact_of_fact(6)"
   ]
  }
 ],
 "metadata": {
  "kernelspec": {
   "display_name": "Python 3 (ipykernel)",
   "language": "python",
   "name": "python3"
  },
  "language_info": {
   "codemirror_mode": {
    "name": "ipython",
    "version": 3
   },
   "file_extension": ".py",
   "mimetype": "text/x-python",
   "name": "python",
   "nbconvert_exporter": "python",
   "pygments_lexer": "ipython3",
   "version": "3.6.13"
  }
 },
 "nbformat": 4,
 "nbformat_minor": 5
}

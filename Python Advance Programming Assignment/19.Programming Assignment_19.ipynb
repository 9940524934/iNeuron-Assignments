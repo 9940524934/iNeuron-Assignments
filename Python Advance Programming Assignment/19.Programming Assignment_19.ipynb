{
 "cells": [
  {
   "cell_type": "markdown",
   "id": "77ed8233",
   "metadata": {},
   "source": [
    "# Assignment 19 Solutions"
   ]
  },
  {
   "cell_type": "markdown",
   "id": "f045220b",
   "metadata": {},
   "source": [
    "#### 1. Create a checker board generator, which takes as inputs n and 2 elements to generate an n x n checkerboard with those two elements as alternating squares.\n",
    "**Examples:**   \n",
    "`checker_board(2, 7, 6) ➞ [\n",
    "  [7, 6],\n",
    "  [6, 7]\n",
    "]`\n",
    "\n",
    "`checker_board(3, \"A\", \"B\") ➞ [\n",
    "  [\"A\", \"B\", \"A\"],\n",
    "  [\"B\", \"A\", \"B\"],\n",
    "  [\"A\", \"B\", \"A\"]\n",
    "]`\n",
    "\n",
    "`checker_board(4, \"c\", \"d\") ➞ [\n",
    "  [\"c\", \"d\", \"c\", \"d\"],\n",
    "  [\"d\", \"c\", \"d\", \"c\"],\n",
    "  [\"c\", \"d\", \"c\", \"d\"],\n",
    "  [\"d\", \"c\", \"d\", \"c\"]\n",
    "]`\n",
    "\n",
    "`checker_board(4, \"c\", \"c\") ➞ \"invalid\"`  "
   ]
  },
  {
   "cell_type": "code",
   "execution_count": null,
   "id": "4f89f41d",
   "metadata": {},
   "outputs": [],
   "source": []
  },
  {
   "cell_type": "markdown",
   "id": "5deef5d7",
   "metadata": {},
   "source": [
    "#### 2. A string is an almost-palindrome if, by changing only one character, you can make it a palindrome. Create a function that returns True if a string is an almost-palindrome and False otherwise.\n",
    "\n",
    "**Examples:**   \n",
    "`almost_palindrome(\"abcdcbg\") ➞ True`  \n",
    "`# Transformed to \"abcdcba\" by changing \"g\" to \"a\".`  \n",
    "\n",
    "`almost_palindrome(\"abccia\") ➞ True`  \n",
    "`# Transformed to \"abccba\" by changing \"i\" to \"b\".`  \n",
    "\n",
    "`almost_palindrome(\"abcdaaa\") ➞ False`  \n",
    "`# Can't be transformed to a palindrome in exactly 1 turn.`  \n",
    "\n",
    "`almost_palindrome(\"1234312\") ➞ False`"
   ]
  },
  {
   "cell_type": "code",
   "execution_count": null,
   "id": "29c79146",
   "metadata": {},
   "outputs": [],
   "source": []
  },
  {
   "cell_type": "markdown",
   "id": "3aad17bf",
   "metadata": {},
   "source": [
    "#### 3. Create a function that finds how many prime numbers there are, up to the given integer.\n",
    "**Examples:**   \n",
    "`prime_numbers(10) ➞ 4`   \n",
    "`# 2, 3, 5 and 7`   \n",
    "\n",
    "`prime_numbers(20) ➞ 8`   \n",
    "`# 2, 3, 5, 7, 11, 13, 17 and 19`   \n",
    "\n",
    "`prime_numbers(30) ➞ 10`  \n",
    "`# 2, 3, 5, 7, 11, 13, 17, 19, 23 and 29`  "
   ]
  },
  {
   "cell_type": "code",
   "execution_count": 57,
   "id": "24c2e79c",
   "metadata": {},
   "outputs": [
    {
     "name": "stdout",
     "output_type": "stream",
     "text": [
      "prime_numbers(10) ➞ 4\n",
      "prime_numbers(20) ➞ 8\n",
      "prime_numbers(30) ➞ 10\n"
     ]
    }
   ],
   "source": [
    "def prime_numbers(in_num):\n",
    "    out_num = 0\n",
    "    out_list = [2,3]\n",
    "    for ele in range(1,in_num+1):\n",
    "        if ele <= 3 and ele > 0:\n",
    "            out_num = 2 if ele==3 else 1 if ele ==2 else 0\n",
    "        elif ele > 3 and (((ele-1)%6 == 0) or ((ele+1)%6 == 0)):\n",
    "            out_num +=1\n",
    "            out_list.append(ele)    \n",
    "    for top in out_list:\n",
    "        for bottom in out_list:\n",
    "            if top != bottom:\n",
    "                if top%bottom == 0:\n",
    "                    out_num -= 1\n",
    "    print(f'prime_numbers({in_num}) ➞ {out_num}')\n",
    "        \n",
    "prime_numbers(10)     \n",
    "prime_numbers(20)\n",
    "prime_numbers(30)"
   ]
  },
  {
   "cell_type": "markdown",
   "id": "75ef46eb",
   "metadata": {},
   "source": [
    "#### 4. If today was Monday, in two days, it would be Wednesday.\n",
    "\n",
    "Create a function that takes in a list of days as input and the number of days to increment by. Return a list of days after n number of days has passed.\n",
    "\n",
    "**Examples:**   \n",
    "`after_n_days([\"Thursday\", \"Monday\"], 4) ➞ [\"Monday\", \"Friday\"]`  \n",
    "`after_n_days([\"Sunday\", \"Sunday\", \"Sunday\"], 1) ➞ [\"Monday\", \"Monday\", \"Monday\"]`  \n",
    "`after_n_days([\"Monday\", \"Tuesday\", \"Friday\"], 1) ➞ [\"Tuesday\", \"Wednesday\", \"Saturday\"]`  "
   ]
  },
  {
   "cell_type": "code",
   "execution_count": null,
   "id": "7b3cd7ff",
   "metadata": {},
   "outputs": [],
   "source": []
  },
  {
   "cell_type": "markdown",
   "id": "8d61cf98",
   "metadata": {},
   "source": [
    "#### 5. You are in the process of creating a chat application and want to add an anonymous name feature. This anonymous name feature will create an alias that consists of two capitalized words beginning with the same letter as the users first name.\n",
    "\n",
    "Create a function that determines if the list of users is mapped to a list of anonymous names correctly.\n",
    "\n",
    "**Examples:**   \n",
    "`is_correct_aliases([\"Adrian M.\", \"Harriet S.\", \"Mandy T.\"], [\"Amazing Artichoke\", \"Hopeful Hedgehog\", \"Marvelous Mouse\"]) ➞ True`\n",
    "\n",
    "`is_correct_aliases([\"Rachel F.\", \"Pam G.\", \"Fred Z.\", \"Nancy K.\"], [\"Reassuring Rat\", \"Peaceful Panda\", \"Fantastic Frog\", \"Notable Nickel\"]) ➞ True`\n",
    "\n",
    "`is_correct_aliases([\"Beth T.\"], [\"Brandishing Mimosa\"]) ➞ False`  \n",
    "`# Both words in \"Brandishing Mimosa\" should begin with a \"B\" - \"Brandishing Beaver\" would do the trick.`  \n"
   ]
  },
  {
   "cell_type": "code",
   "execution_count": null,
   "id": "9492c105",
   "metadata": {},
   "outputs": [],
   "source": []
  }
 ],
 "metadata": {
  "kernelspec": {
   "display_name": "Python 3 (ipykernel)",
   "language": "python",
   "name": "python3"
  },
  "language_info": {
   "codemirror_mode": {
    "name": "ipython",
    "version": 3
   },
   "file_extension": ".py",
   "mimetype": "text/x-python",
   "name": "python",
   "nbconvert_exporter": "python",
   "pygments_lexer": "ipython3",
   "version": "3.8.8"
  }
 },
 "nbformat": 4,
 "nbformat_minor": 5
}

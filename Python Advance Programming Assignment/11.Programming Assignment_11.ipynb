{
 "cells": [
  {
   "cell_type": "markdown",
   "id": "aa5ef330",
   "metadata": {},
   "source": [
    "# Assignment 11 Solutions"
   ]
  },
  {
   "cell_type": "markdown",
   "id": "08e6f89e",
   "metadata": {},
   "source": [
    "#### 1. Create a function that takes a list and returns a new list containing only prime numbers.\n",
    "**Examples:**   \n",
    "`filter_primes([7, 9, 3, 9, 10, 11, 27]) ➞ [7, 3, 11]`  \n",
    "`filter_primes([10007, 1009, 1007, 27, 147, 77, 1001, 70]) ➞ [10007, 1009]`  \n",
    "`filter_primes([1009, 10, 10, 10, 3, 33, 9, 4, 1, 61, 63, 69, 1087, 1091, 1093, 1097]) ➞ [1009, 3, 61, 1087, 1091, 1093, 1097]` "
   ]
  },
  {
   "cell_type": "code",
   "execution_count": null,
   "id": "4a8150dd",
   "metadata": {},
   "outputs": [],
   "source": []
  },
  {
   "cell_type": "markdown",
   "id": "8578a7e4",
   "metadata": {},
   "source": [
    "#### 2. Once a water balloon pops, is soaks the area around it. The ground gets drier the further away you travel from the balloon.\n",
    "The effect of a water balloon popping can be modeled using a list. Create a function that takes a list which takes the pre-pop state and returns the state after the balloon is popped. The pre-pop state will contain at most a single balloon, whose size is represented by the only non-zero element.   \n",
    "\n",
    "**Examples:**   \n",
    "`pop([0, 0, 0, 0, 4, 0, 0, 0, 0]) ➞ [0, 1, 2, 3, 4, 3, 2, 1, 0]`   \n",
    "`pop([0, 0, 0, 3, 0, 0, 0]) ➞ [0, 1, 2, 3, 2, 1, 0]`   \n",
    "`pop([0, 0, 2, 0, 0]) ➞ [0, 1, 2, 1, 0]`  \n",
    "`pop([0]) ➞ [0]`  "
   ]
  },
  {
   "cell_type": "code",
   "execution_count": null,
   "id": "be4da563",
   "metadata": {},
   "outputs": [],
   "source": []
  },
  {
   "cell_type": "markdown",
   "id": "3670c12a",
   "metadata": {},
   "source": [
    "#### 3. \"Loves me, loves me not\" is a traditional game in which a person plucks off all the petals of a flower one by one, saying the phrase \"Loves me\" and \"Loves me not\" when determining whether the one that they love, loves them back.\n",
    "\n",
    "Given a number of petals, return a string which repeats the phrases \"Loves me\" and \"Loves me not\" for every alternating petal, and return the last phrase in all caps. Remember to put a comma and space between phrases.\n",
    "\n",
    "**Examples:**   \n",
    "`loves_me(3) ➞ \"Loves me, Loves me not, LOVES ME\"`  \n",
    "`loves_me(6) ➞ \"Loves me, Loves me not, Loves me, Loves me not, Loves me, LOVES ME NOT\"`  \n",
    "`loves_me(1) ➞ \"LOVES ME\"`  "
   ]
  },
  {
   "cell_type": "code",
   "execution_count": null,
   "id": "c8a20c85",
   "metadata": {},
   "outputs": [],
   "source": []
  },
  {
   "cell_type": "markdown",
   "id": "2ba69062",
   "metadata": {},
   "source": [
    "#### 4. Write a function that sorts each string in a list by the letter in alphabetic ascending order (a-z).\n",
    "**Examples:**   \n",
    "`sort_by_letter([\"932c\", \"832u32\", \"2344b\"]) ➞ [\"2344b\", \"932c\", \"832u32\"]`   \n",
    "`sort_by_letter([\"99a\", \"78b\", \"c2345\", \"11d\"]) ➞ [\"99a\", \"78b\", \"c2345\", \"11d\"]`     \n",
    "`sort_by_letter([\"572z\", \"5y5\", \"304q2\"]) ➞ [\"304q2\", \"5y5\", \"572z\"]`   \n",
    "`sort_by_letter([]) ➞ []`"
   ]
  },
  {
   "cell_type": "code",
   "execution_count": null,
   "id": "9e71349c",
   "metadata": {},
   "outputs": [],
   "source": []
  },
  {
   "cell_type": "markdown",
   "id": "efa2029a",
   "metadata": {},
   "source": [
    "#### 5. There are three cups on a table, at positions A, B, and C. At the start, there is a ball hidden under the cup at position B.\n",
    "\n",
    "However, I perform several swaps on the cups, which is notated as two letters. For example, if I swap the cups at positions A and B, I could notate this as AB or BA.\n",
    "\n",
    "Create a function that returns the letter position that the ball is at, once I finish swapping the cups. The swaps will be given to you as a list.\n",
    "\n",
    "**Examples:**   \n",
    "`cup_swapping([\"AB\", \"CA\", \"AB\"]) ➞ \"C\"`  \n",
    "`# Ball begins at position B.`  \n",
    "`# Cups A and B swap, so the ball is at position A.`  \n",
    "`# Cups C and A swap, so the ball is at position C.`  \n",
    "`# Cups A and B swap, but the ball is at position C, so it doesn't move.`  "
   ]
  },
  {
   "cell_type": "code",
   "execution_count": null,
   "id": "2216dee6",
   "metadata": {},
   "outputs": [],
   "source": []
  }
 ],
 "metadata": {
  "kernelspec": {
   "display_name": "Python 3",
   "language": "python",
   "name": "python3"
  },
  "language_info": {
   "codemirror_mode": {
    "name": "ipython",
    "version": 3
   },
   "file_extension": ".py",
   "mimetype": "text/x-python",
   "name": "python",
   "nbconvert_exporter": "python",
   "pygments_lexer": "ipython3",
   "version": "3.8.8"
  }
 },
 "nbformat": 4,
 "nbformat_minor": 5
}

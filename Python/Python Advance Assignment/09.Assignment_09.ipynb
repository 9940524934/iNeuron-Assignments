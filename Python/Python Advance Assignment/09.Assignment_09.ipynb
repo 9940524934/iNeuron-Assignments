{
 "cells": [
  {
   "cell_type": "markdown",
   "id": "e635edfa",
   "metadata": {},
   "source": [
    "# Assignment 09 Solutions"
   ]
  },
  {
   "cell_type": "markdown",
   "id": "1b9784d3",
   "metadata": {},
   "source": [
    "#### Q1. In Python 3.X, what are the names and functions of string object types?"
   ]
  },
  {
   "cell_type": "code",
   "execution_count": null,
   "id": "471cc4af",
   "metadata": {},
   "outputs": [],
   "source": []
  },
  {
   "cell_type": "markdown",
   "id": "dbf211cb",
   "metadata": {},
   "source": [
    "#### Q2. How do the string forms in Python 3.X vary in terms of operations?"
   ]
  },
  {
   "cell_type": "code",
   "execution_count": null,
   "id": "91267955",
   "metadata": {},
   "outputs": [],
   "source": []
  },
  {
   "cell_type": "markdown",
   "id": "a1730a0e",
   "metadata": {},
   "source": [
    "#### Q3. In 3.X, how do you put non-ASCII Unicode characters in a string?"
   ]
  },
  {
   "cell_type": "code",
   "execution_count": null,
   "id": "1717faab",
   "metadata": {},
   "outputs": [],
   "source": []
  },
  {
   "cell_type": "markdown",
   "id": "b8612f7c",
   "metadata": {},
   "source": [
    "#### Q4. In Python 3.X, what are the key differences between text-mode and binary-mode files?"
   ]
  },
  {
   "cell_type": "code",
   "execution_count": null,
   "id": "68a182ca",
   "metadata": {},
   "outputs": [],
   "source": []
  },
  {
   "cell_type": "markdown",
   "id": "a64d5125",
   "metadata": {},
   "source": [
    "#### Q5. How can you interpret a Unicode text file containing text encoded in a different encoding than your platform's default?"
   ]
  },
  {
   "cell_type": "code",
   "execution_count": null,
   "id": "a710fcce",
   "metadata": {},
   "outputs": [],
   "source": []
  },
  {
   "cell_type": "markdown",
   "id": "b6635a90",
   "metadata": {},
   "source": [
    "#### Q6. What is the best way to make a Unicode text file in a particular encoding format?"
   ]
  },
  {
   "cell_type": "code",
   "execution_count": null,
   "id": "79543d99",
   "metadata": {},
   "outputs": [],
   "source": []
  },
  {
   "cell_type": "markdown",
   "id": "43828345",
   "metadata": {},
   "source": [
    "#### Q7. What qualifies ASCII text as a form of Unicode text?"
   ]
  },
  {
   "cell_type": "code",
   "execution_count": null,
   "id": "c36799d4",
   "metadata": {},
   "outputs": [],
   "source": []
  },
  {
   "cell_type": "markdown",
   "id": "080bfa7e",
   "metadata": {},
   "source": [
    "#### Q8. How much of an effect does the change in string types in Python 3.X have on your code?"
   ]
  },
  {
   "cell_type": "code",
   "execution_count": null,
   "id": "f983ab99",
   "metadata": {},
   "outputs": [],
   "source": []
  }
 ],
 "metadata": {
  "kernelspec": {
   "display_name": "Python 3",
   "language": "python",
   "name": "python3"
  },
  "language_info": {
   "codemirror_mode": {
    "name": "ipython",
    "version": 3
   },
   "file_extension": ".py",
   "mimetype": "text/x-python",
   "name": "python",
   "nbconvert_exporter": "python",
   "pygments_lexer": "ipython3",
   "version": "3.6.13"
  }
 },
 "nbformat": 4,
 "nbformat_minor": 5
}

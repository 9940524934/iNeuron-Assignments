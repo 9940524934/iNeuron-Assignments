{
 "cells": [
  {
   "cell_type": "markdown",
   "id": "da5162c1",
   "metadata": {},
   "source": [
    "# Assignment 01 Solutions"
   ]
  },
  {
   "cell_type": "markdown",
   "id": "5542f5dd",
   "metadata": {},
   "source": [
    "#### 1. What does one mean by the term \"machine learning\"?"
   ]
  },
  {
   "cell_type": "code",
   "execution_count": null,
   "id": "e3bba182",
   "metadata": {},
   "outputs": [],
   "source": []
  },
  {
   "cell_type": "markdown",
   "id": "191d54fe",
   "metadata": {},
   "source": [
    "#### 2.Can you think of 4 distinct types of issues where it shines?"
   ]
  },
  {
   "cell_type": "code",
   "execution_count": null,
   "id": "6202a939",
   "metadata": {},
   "outputs": [],
   "source": []
  },
  {
   "cell_type": "markdown",
   "id": "2be941b1",
   "metadata": {},
   "source": [
    "#### 3.What is a labeled training set, and how does it work?"
   ]
  },
  {
   "cell_type": "code",
   "execution_count": null,
   "id": "82edc3cd",
   "metadata": {},
   "outputs": [],
   "source": []
  },
  {
   "cell_type": "markdown",
   "id": "af127751",
   "metadata": {},
   "source": [
    "#### 4.What are the two most important tasks that are supervised?"
   ]
  },
  {
   "cell_type": "code",
   "execution_count": null,
   "id": "989279cc",
   "metadata": {},
   "outputs": [],
   "source": []
  },
  {
   "cell_type": "markdown",
   "id": "18091371",
   "metadata": {},
   "source": [
    "#### 5.Can you think of four examples of unsupervised tasks?"
   ]
  },
  {
   "cell_type": "code",
   "execution_count": null,
   "id": "182206ef",
   "metadata": {},
   "outputs": [],
   "source": []
  },
  {
   "cell_type": "markdown",
   "id": "4253e5da",
   "metadata": {},
   "source": [
    "#### 6.State the machine learning model that would be best to make a robot walk through various unfamiliar terrains?"
   ]
  },
  {
   "cell_type": "code",
   "execution_count": null,
   "id": "d5b854d2",
   "metadata": {},
   "outputs": [],
   "source": []
  },
  {
   "cell_type": "markdown",
   "id": "ad8c6cd2",
   "metadata": {},
   "source": [
    "#### 7.Which algorithm will you use to divide your customers into different groups?"
   ]
  },
  {
   "cell_type": "code",
   "execution_count": null,
   "id": "f3d6241f",
   "metadata": {},
   "outputs": [],
   "source": []
  },
  {
   "cell_type": "markdown",
   "id": "9105b2d5",
   "metadata": {},
   "source": [
    "#### 8.Will you consider the problem of spam detection to be a supervised or unsupervised learning problem?"
   ]
  },
  {
   "cell_type": "code",
   "execution_count": null,
   "id": "32c86751",
   "metadata": {},
   "outputs": [],
   "source": []
  },
  {
   "cell_type": "markdown",
   "id": "0c085053",
   "metadata": {},
   "source": [
    "#### 9.What is the concept of an online learning system?"
   ]
  },
  {
   "cell_type": "code",
   "execution_count": null,
   "id": "23efc26c",
   "metadata": {},
   "outputs": [],
   "source": []
  },
  {
   "cell_type": "markdown",
   "id": "90fdf632",
   "metadata": {},
   "source": [
    "#### 10.What is out-of-core learning, and how does it differ from core learning?"
   ]
  },
  {
   "cell_type": "code",
   "execution_count": null,
   "id": "1513e1bb",
   "metadata": {},
   "outputs": [],
   "source": []
  },
  {
   "cell_type": "markdown",
   "id": "25b1ebf0",
   "metadata": {},
   "source": [
    "#### 11.What kind of learning algorithm makes predictions using a similarity measure?"
   ]
  },
  {
   "cell_type": "code",
   "execution_count": null,
   "id": "0b278932",
   "metadata": {},
   "outputs": [],
   "source": []
  },
  {
   "cell_type": "markdown",
   "id": "3311e6c7",
   "metadata": {},
   "source": [
    "#### 12.What's the difference between a model parameter and a hyperparameter in a learning algorithm?"
   ]
  },
  {
   "cell_type": "code",
   "execution_count": null,
   "id": "c90c883c",
   "metadata": {},
   "outputs": [],
   "source": []
  },
  {
   "cell_type": "markdown",
   "id": "1574e21a",
   "metadata": {},
   "source": [
    "#### 13.What are the criteria that model-based learning algorithms look for? What is the most popular method they use to achieve success? What method do they use to make predictions?"
   ]
  },
  {
   "cell_type": "code",
   "execution_count": null,
   "id": "e2316d16",
   "metadata": {},
   "outputs": [],
   "source": []
  },
  {
   "cell_type": "markdown",
   "id": "42e921cd",
   "metadata": {},
   "source": [
    "#### 14.Can you name four of the most important Machine Learning challenges?"
   ]
  },
  {
   "cell_type": "code",
   "execution_count": null,
   "id": "8fecdd90",
   "metadata": {},
   "outputs": [],
   "source": []
  },
  {
   "cell_type": "markdown",
   "id": "2e45ca05",
   "metadata": {},
   "source": [
    "#### 15.What happens if the model performs well on the training data but fails to generalize the results to new situations? Can you think of three different options?"
   ]
  },
  {
   "cell_type": "code",
   "execution_count": null,
   "id": "73316f70",
   "metadata": {},
   "outputs": [],
   "source": []
  },
  {
   "cell_type": "markdown",
   "id": "cb05d8b8",
   "metadata": {},
   "source": [
    "#### 16.What exactly is a test set, and why would you need one?"
   ]
  },
  {
   "cell_type": "code",
   "execution_count": null,
   "id": "f493aec2",
   "metadata": {},
   "outputs": [],
   "source": []
  },
  {
   "cell_type": "markdown",
   "id": "abf60183",
   "metadata": {},
   "source": [
    "#### 17.What is a validation set's purpose?"
   ]
  },
  {
   "cell_type": "code",
   "execution_count": null,
   "id": "b1474c99",
   "metadata": {},
   "outputs": [],
   "source": []
  },
  {
   "cell_type": "markdown",
   "id": "31ed593a",
   "metadata": {},
   "source": [
    "#### 18.What precisely is the train-dev kit, when will you need it, how do you put it to use?"
   ]
  },
  {
   "cell_type": "code",
   "execution_count": null,
   "id": "0f3d5d77",
   "metadata": {},
   "outputs": [],
   "source": []
  },
  {
   "cell_type": "markdown",
   "id": "2148fdcb",
   "metadata": {},
   "source": [
    "#### 19.What could go wrong if you use the test set to tune hyperparameters?"
   ]
  },
  {
   "cell_type": "code",
   "execution_count": null,
   "id": "0e387d64",
   "metadata": {},
   "outputs": [],
   "source": []
  }
 ],
 "metadata": {
  "kernelspec": {
   "display_name": "Python 3",
   "language": "python",
   "name": "python3"
  },
  "language_info": {
   "codemirror_mode": {
    "name": "ipython",
    "version": 3
   },
   "file_extension": ".py",
   "mimetype": "text/x-python",
   "name": "python",
   "nbconvert_exporter": "python",
   "pygments_lexer": "ipython3",
   "version": "3.8.8"
  }
 },
 "nbformat": 4,
 "nbformat_minor": 5
}

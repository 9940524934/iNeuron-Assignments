{
 "cells": [
  {
   "cell_type": "markdown",
   "id": "b2aa57f2",
   "metadata": {},
   "source": [
    "# Assignment 16 Solutions"
   ]
  },
  {
   "cell_type": "markdown",
   "id": "111120c6",
   "metadata": {},
   "source": [
    "#### 1. In a linear equation, what is the difference between a dependent variable and an independent variable?"
   ]
  },
  {
   "cell_type": "code",
   "execution_count": null,
   "id": "bbb5fac1",
   "metadata": {},
   "outputs": [],
   "source": []
  },
  {
   "cell_type": "markdown",
   "id": "4ae857d4",
   "metadata": {},
   "source": [
    "#### 2. What is the concept of simple linear regression? Give a specific example."
   ]
  },
  {
   "cell_type": "code",
   "execution_count": null,
   "id": "1980db63",
   "metadata": {},
   "outputs": [],
   "source": []
  },
  {
   "cell_type": "markdown",
   "id": "c981ac1e",
   "metadata": {},
   "source": [
    "#### 3. In a linear regression, define the slope."
   ]
  },
  {
   "cell_type": "code",
   "execution_count": null,
   "id": "3f4d2800",
   "metadata": {},
   "outputs": [],
   "source": []
  },
  {
   "cell_type": "markdown",
   "id": "07ab2a64",
   "metadata": {},
   "source": [
    "#### 4. Determine the graph's slope, where the lower point on the line is represented as (3, 2) and the higher point is represented as (2, 2)."
   ]
  },
  {
   "cell_type": "code",
   "execution_count": null,
   "id": "27b33588",
   "metadata": {},
   "outputs": [],
   "source": []
  },
  {
   "cell_type": "markdown",
   "id": "0be2162e",
   "metadata": {},
   "source": [
    "#### 5. In linear regression, what are the conditions for a positive slope?"
   ]
  },
  {
   "cell_type": "code",
   "execution_count": null,
   "id": "744c9c4a",
   "metadata": {},
   "outputs": [],
   "source": []
  },
  {
   "cell_type": "markdown",
   "id": "a96163dd",
   "metadata": {},
   "source": [
    "#### 6. In linear regression, what are the conditions for a negative slope?"
   ]
  },
  {
   "cell_type": "code",
   "execution_count": null,
   "id": "666fe3e7",
   "metadata": {},
   "outputs": [],
   "source": []
  },
  {
   "cell_type": "markdown",
   "id": "6b3b649e",
   "metadata": {},
   "source": [
    "#### 7. What is multiple linear regression and how does it work?"
   ]
  },
  {
   "cell_type": "code",
   "execution_count": null,
   "id": "ab3285b9",
   "metadata": {},
   "outputs": [],
   "source": []
  },
  {
   "cell_type": "markdown",
   "id": "54020cf8",
   "metadata": {},
   "source": [
    "#### 8. In multiple linear regression, define the number of squares due to error."
   ]
  },
  {
   "cell_type": "code",
   "execution_count": null,
   "id": "2763089f",
   "metadata": {},
   "outputs": [],
   "source": []
  },
  {
   "cell_type": "markdown",
   "id": "9db681d1",
   "metadata": {},
   "source": [
    "#### 9. In multiple linear regression, define the number of squares due to regression"
   ]
  },
  {
   "cell_type": "code",
   "execution_count": null,
   "id": "1ce4b54d",
   "metadata": {},
   "outputs": [],
   "source": []
  },
  {
   "cell_type": "markdown",
   "id": "5b686929",
   "metadata": {},
   "source": [
    "#### 10. In a regression equation, what is multicollinearity?"
   ]
  },
  {
   "cell_type": "code",
   "execution_count": null,
   "id": "8dcac1e8",
   "metadata": {},
   "outputs": [],
   "source": []
  },
  {
   "cell_type": "markdown",
   "id": "3e636eaf",
   "metadata": {},
   "source": [
    "#### 11. What is heteroskedasticity, and what does it mean?"
   ]
  },
  {
   "cell_type": "code",
   "execution_count": null,
   "id": "81bec19c",
   "metadata": {},
   "outputs": [],
   "source": []
  },
  {
   "cell_type": "markdown",
   "id": "64feb7de",
   "metadata": {},
   "source": [
    "#### 12. Describe the concept of ridge regression."
   ]
  },
  {
   "cell_type": "code",
   "execution_count": null,
   "id": "599a6581",
   "metadata": {},
   "outputs": [],
   "source": []
  },
  {
   "cell_type": "markdown",
   "id": "bcec9c51",
   "metadata": {},
   "source": [
    "#### 13. Describe the concept of lasso regression."
   ]
  },
  {
   "cell_type": "code",
   "execution_count": null,
   "id": "55cc984f",
   "metadata": {},
   "outputs": [],
   "source": []
  },
  {
   "cell_type": "markdown",
   "id": "5830b034",
   "metadata": {},
   "source": [
    "#### 14. What is polynomial regression and how does it work?"
   ]
  },
  {
   "cell_type": "code",
   "execution_count": null,
   "id": "b092bb9b",
   "metadata": {},
   "outputs": [],
   "source": []
  },
  {
   "cell_type": "markdown",
   "id": "ed872326",
   "metadata": {},
   "source": [
    "#### 15. Describe the basis function."
   ]
  },
  {
   "cell_type": "code",
   "execution_count": null,
   "id": "325c966d",
   "metadata": {},
   "outputs": [],
   "source": []
  },
  {
   "cell_type": "markdown",
   "id": "9dbc03d5",
   "metadata": {},
   "source": [
    "#### 16. Describe how logistic regression works."
   ]
  },
  {
   "cell_type": "code",
   "execution_count": null,
   "id": "e8a2a151",
   "metadata": {},
   "outputs": [],
   "source": []
  }
 ],
 "metadata": {
  "kernelspec": {
   "display_name": "Python 3",
   "language": "python",
   "name": "python3"
  },
  "language_info": {
   "codemirror_mode": {
    "name": "ipython",
    "version": 3
   },
   "file_extension": ".py",
   "mimetype": "text/x-python",
   "name": "python",
   "nbconvert_exporter": "python",
   "pygments_lexer": "ipython3",
   "version": "3.8.8"
  }
 },
 "nbformat": 4,
 "nbformat_minor": 5
}

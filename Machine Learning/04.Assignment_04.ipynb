{
 "cells": [
  {
   "cell_type": "markdown",
   "id": "b2aa57f2",
   "metadata": {},
   "source": [
    "# Assignment 04 Solutions"
   ]
  },
  {
   "cell_type": "markdown",
   "id": "5f4c3ef3",
   "metadata": {},
   "source": [
    "#### 1. What are the key tasks involved in getting ready to work with machine learning modeling?"
   ]
  },
  {
   "cell_type": "code",
   "execution_count": null,
   "id": "ad1491b8",
   "metadata": {},
   "outputs": [],
   "source": []
  },
  {
   "cell_type": "markdown",
   "id": "0bdf36f2",
   "metadata": {},
   "source": [
    "#### 2. What are the different forms of data used in machine learning? Give a specific example for each of them."
   ]
  },
  {
   "cell_type": "code",
   "execution_count": null,
   "id": "b3d0d04b",
   "metadata": {},
   "outputs": [],
   "source": []
  },
  {
   "cell_type": "markdown",
   "id": "8da3a03a",
   "metadata": {},
   "source": [
    "#### 3. Distinguish:\n",
    "1. Numeric vs. categorical attributes\n",
    "2. Feature selection vs. dimensionality reduction"
   ]
  },
  {
   "cell_type": "code",
   "execution_count": null,
   "id": "be9f9dfc",
   "metadata": {},
   "outputs": [],
   "source": []
  },
  {
   "cell_type": "markdown",
   "id": "416b863d",
   "metadata": {},
   "source": [
    "#### 4. Make quick notes on any two of the following:\n",
    "1. The histogram\n",
    "2. Use a scatter plot\n",
    "3.PCA (Personal Computer Aid)"
   ]
  },
  {
   "cell_type": "code",
   "execution_count": null,
   "id": "5432228a",
   "metadata": {},
   "outputs": [],
   "source": []
  },
  {
   "cell_type": "markdown",
   "id": "986de4b3",
   "metadata": {},
   "source": [
    "#### 5. Why is it necessary to investigate data? Is there a discrepancy in how qualitative and quantitative data are explored?"
   ]
  },
  {
   "cell_type": "code",
   "execution_count": null,
   "id": "c002bc73",
   "metadata": {},
   "outputs": [],
   "source": []
  },
  {
   "cell_type": "markdown",
   "id": "3d354a55",
   "metadata": {},
   "source": [
    "#### 6. What are the various histogram shapes? What exactly are ‘bins'?"
   ]
  },
  {
   "cell_type": "code",
   "execution_count": null,
   "id": "250db9e4",
   "metadata": {},
   "outputs": [],
   "source": []
  },
  {
   "cell_type": "markdown",
   "id": "e4b25fc0",
   "metadata": {},
   "source": [
    "#### 7. How do we deal with data outliers?"
   ]
  },
  {
   "cell_type": "code",
   "execution_count": null,
   "id": "672304a7",
   "metadata": {},
   "outputs": [],
   "source": []
  },
  {
   "cell_type": "markdown",
   "id": "2a098bf0",
   "metadata": {},
   "source": [
    "#### 8. What are the various central inclination measures? Why does mean vary too much from median in certain data sets?"
   ]
  },
  {
   "cell_type": "code",
   "execution_count": null,
   "id": "ede091e0",
   "metadata": {},
   "outputs": [],
   "source": []
  },
  {
   "cell_type": "markdown",
   "id": "a8082d30",
   "metadata": {},
   "source": [
    "#### 9. Describe how a scatter plot can be used to investigate bivariate relationships. Is it possible to find outliers using a scatter plot?"
   ]
  },
  {
   "cell_type": "code",
   "execution_count": null,
   "id": "c77b0774",
   "metadata": {},
   "outputs": [],
   "source": []
  },
  {
   "cell_type": "markdown",
   "id": "bbbf6ea5",
   "metadata": {},
   "source": [
    "#### 10. Describe how cross-tabs can be used to figure out how two variables are related."
   ]
  },
  {
   "cell_type": "code",
   "execution_count": null,
   "id": "b3ba4fd4",
   "metadata": {},
   "outputs": [],
   "source": []
  }
 ],
 "metadata": {
  "kernelspec": {
   "display_name": "Python 3",
   "language": "python",
   "name": "python3"
  },
  "language_info": {
   "codemirror_mode": {
    "name": "ipython",
    "version": 3
   },
   "file_extension": ".py",
   "mimetype": "text/x-python",
   "name": "python",
   "nbconvert_exporter": "python",
   "pygments_lexer": "ipython3",
   "version": "3.8.8"
  }
 },
 "nbformat": 4,
 "nbformat_minor": 5
}

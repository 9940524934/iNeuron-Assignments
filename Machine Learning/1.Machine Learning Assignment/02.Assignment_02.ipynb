{
 "cells": [
  {
   "cell_type": "markdown",
   "id": "b2aa57f2",
   "metadata": {},
   "source": [
    "# Assignment 02 Solutions"
   ]
  },
  {
   "cell_type": "markdown",
   "id": "5316652a",
   "metadata": {},
   "source": [
    "#### 1. What is the concept of human learning? Please give two examples."
   ]
  },
  {
   "cell_type": "code",
   "execution_count": null,
   "id": "b9103578",
   "metadata": {},
   "outputs": [],
   "source": []
  },
  {
   "cell_type": "markdown",
   "id": "5471defe",
   "metadata": {},
   "source": [
    "#### 2. What different forms of human learning are there? Are there any machine learning equivalents?"
   ]
  },
  {
   "cell_type": "code",
   "execution_count": null,
   "id": "92f5a171",
   "metadata": {},
   "outputs": [],
   "source": []
  },
  {
   "cell_type": "markdown",
   "id": "cdfe77b0",
   "metadata": {},
   "source": [
    "#### 3. What is machine learning, and how does it work? What are the key responsibilities of machine learning?"
   ]
  },
  {
   "cell_type": "code",
   "execution_count": null,
   "id": "73a838c4",
   "metadata": {},
   "outputs": [],
   "source": []
  },
  {
   "cell_type": "markdown",
   "id": "2ff62812",
   "metadata": {},
   "source": [
    "#### 4. Define the terms \"penalty\" and \"reward\" in the context of reinforcement learning."
   ]
  },
  {
   "cell_type": "code",
   "execution_count": null,
   "id": "d05c0480",
   "metadata": {},
   "outputs": [],
   "source": []
  },
  {
   "cell_type": "markdown",
   "id": "14bf9267",
   "metadata": {},
   "source": [
    "#### 5. Explain the term \"learning as a search\"?"
   ]
  },
  {
   "cell_type": "code",
   "execution_count": null,
   "id": "b1bbbc2f",
   "metadata": {},
   "outputs": [],
   "source": []
  },
  {
   "cell_type": "markdown",
   "id": "e61102f2",
   "metadata": {},
   "source": [
    "#### 6. What are the various goals of machine learning? What is the relationship between these and human learning?"
   ]
  },
  {
   "cell_type": "code",
   "execution_count": null,
   "id": "245117ae",
   "metadata": {},
   "outputs": [],
   "source": []
  },
  {
   "cell_type": "markdown",
   "id": "85c79f89",
   "metadata": {},
   "source": [
    "#### 7. Illustrate the various elements of machine learning using a real-life illustration."
   ]
  },
  {
   "cell_type": "code",
   "execution_count": null,
   "id": "19e98fab",
   "metadata": {},
   "outputs": [],
   "source": []
  },
  {
   "cell_type": "markdown",
   "id": "8922845a",
   "metadata": {},
   "source": [
    "#### 8. Provide an example of the abstraction method."
   ]
  },
  {
   "cell_type": "code",
   "execution_count": null,
   "id": "ac39f68f",
   "metadata": {},
   "outputs": [],
   "source": []
  },
  {
   "cell_type": "markdown",
   "id": "56a1dc6c",
   "metadata": {},
   "source": [
    "#### 9. What is the concept of generalization? What function does it play in the machine learning process?"
   ]
  },
  {
   "cell_type": "code",
   "execution_count": null,
   "id": "a6022689",
   "metadata": {},
   "outputs": [],
   "source": []
  },
  {
   "cell_type": "markdown",
   "id": "8a161dc8",
   "metadata": {},
   "source": [
    "#### 10. What is classification, exactly? What are the main distinctions between classification and regression?"
   ]
  },
  {
   "cell_type": "code",
   "execution_count": null,
   "id": "abbd454e",
   "metadata": {},
   "outputs": [],
   "source": []
  },
  {
   "cell_type": "markdown",
   "id": "6c0f94f9",
   "metadata": {},
   "source": [
    "#### 11. What is regression, and how does it work? Give an example of a real-world problem that was solved using regression."
   ]
  },
  {
   "cell_type": "code",
   "execution_count": null,
   "id": "fe64b2b7",
   "metadata": {},
   "outputs": [],
   "source": []
  },
  {
   "cell_type": "markdown",
   "id": "a476eabf",
   "metadata": {},
   "source": [
    "#### 12. Describe the clustering mechanism in detail."
   ]
  },
  {
   "cell_type": "code",
   "execution_count": null,
   "id": "10a18325",
   "metadata": {},
   "outputs": [],
   "source": []
  },
  {
   "cell_type": "markdown",
   "id": "511ddebd",
   "metadata": {},
   "source": [
    "#### 13. Make brief observations on two of the following topics:\n",
    "1. Machine learning algorithms are used\n",
    "2. Studying under supervision\n",
    "3. Studying without supervision\n",
    "4. Reinforcement learning is a form of learning based on positive reinforcement."
   ]
  },
  {
   "cell_type": "code",
   "execution_count": null,
   "id": "11ef86ef",
   "metadata": {},
   "outputs": [],
   "source": []
  }
 ],
 "metadata": {
  "kernelspec": {
   "display_name": "Python 3",
   "language": "python",
   "name": "python3"
  },
  "language_info": {
   "codemirror_mode": {
    "name": "ipython",
    "version": 3
   },
   "file_extension": ".py",
   "mimetype": "text/x-python",
   "name": "python",
   "nbconvert_exporter": "python",
   "pygments_lexer": "ipython3",
   "version": "3.8.8"
  }
 },
 "nbformat": 4,
 "nbformat_minor": 5
}

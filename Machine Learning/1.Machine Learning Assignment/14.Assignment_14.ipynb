{
 "cells": [
  {
   "cell_type": "markdown",
   "id": "b2aa57f2",
   "metadata": {},
   "source": [
    "# Assignment 14 Solutions"
   ]
  },
  {
   "cell_type": "markdown",
   "id": "111120c6",
   "metadata": {},
   "source": [
    "#### 1. What is the concept of supervised learning? What is the significance of the name?"
   ]
  },
  {
   "cell_type": "code",
   "execution_count": null,
   "id": "af7dccbd",
   "metadata": {},
   "outputs": [],
   "source": []
  },
  {
   "cell_type": "markdown",
   "id": "4ae857d4",
   "metadata": {},
   "source": [
    "#### 2. In the hospital sector, offer an example of supervised learning."
   ]
  },
  {
   "cell_type": "code",
   "execution_count": null,
   "id": "2d01f294",
   "metadata": {},
   "outputs": [],
   "source": []
  },
  {
   "cell_type": "markdown",
   "id": "c981ac1e",
   "metadata": {},
   "source": [
    "#### 3. Give three supervised learning examples."
   ]
  },
  {
   "cell_type": "code",
   "execution_count": null,
   "id": "1ee28f20",
   "metadata": {},
   "outputs": [],
   "source": []
  },
  {
   "cell_type": "markdown",
   "id": "07ab2a64",
   "metadata": {},
   "source": [
    "#### 4. In supervised learning, what are classification and regression?"
   ]
  },
  {
   "cell_type": "code",
   "execution_count": null,
   "id": "60dfb29a",
   "metadata": {},
   "outputs": [],
   "source": []
  },
  {
   "cell_type": "markdown",
   "id": "0be2162e",
   "metadata": {},
   "source": [
    "#### 5. Give some popular classification algorithms as examples."
   ]
  },
  {
   "cell_type": "code",
   "execution_count": null,
   "id": "250195cd",
   "metadata": {},
   "outputs": [],
   "source": []
  },
  {
   "cell_type": "markdown",
   "id": "a96163dd",
   "metadata": {},
   "source": [
    "#### 6. Briefly describe the SVM model."
   ]
  },
  {
   "cell_type": "code",
   "execution_count": null,
   "id": "49368309",
   "metadata": {},
   "outputs": [],
   "source": []
  },
  {
   "cell_type": "markdown",
   "id": "6b3b649e",
   "metadata": {},
   "source": [
    "#### 7. In SVM, what is the cost of misclassification?"
   ]
  },
  {
   "cell_type": "code",
   "execution_count": null,
   "id": "aa077e80",
   "metadata": {},
   "outputs": [],
   "source": []
  },
  {
   "cell_type": "markdown",
   "id": "54020cf8",
   "metadata": {},
   "source": [
    "#### 8. In the SVM model, define Support Vectors."
   ]
  },
  {
   "cell_type": "code",
   "execution_count": null,
   "id": "cb534f42",
   "metadata": {},
   "outputs": [],
   "source": []
  },
  {
   "cell_type": "markdown",
   "id": "9db681d1",
   "metadata": {},
   "source": [
    "#### 9. In the SVM model, define the kernel."
   ]
  },
  {
   "cell_type": "code",
   "execution_count": null,
   "id": "05ae0d98",
   "metadata": {},
   "outputs": [],
   "source": []
  },
  {
   "cell_type": "markdown",
   "id": "5b686929",
   "metadata": {},
   "source": [
    "#### 10. What are the factors that influence SVM's effectiveness?"
   ]
  },
  {
   "cell_type": "code",
   "execution_count": null,
   "id": "c6b18a3e",
   "metadata": {},
   "outputs": [],
   "source": []
  },
  {
   "cell_type": "markdown",
   "id": "3e636eaf",
   "metadata": {},
   "source": [
    "#### 11. What are the benefits of using the SVM model?"
   ]
  },
  {
   "cell_type": "code",
   "execution_count": null,
   "id": "b63f5651",
   "metadata": {},
   "outputs": [],
   "source": []
  },
  {
   "cell_type": "markdown",
   "id": "64feb7de",
   "metadata": {},
   "source": [
    "#### 12.  What are the drawbacks of using the SVM model?"
   ]
  },
  {
   "cell_type": "code",
   "execution_count": null,
   "id": "69ddf322",
   "metadata": {},
   "outputs": [],
   "source": []
  },
  {
   "cell_type": "markdown",
   "id": "bcec9c51",
   "metadata": {},
   "source": [
    "#### 13. Notes should be written on\n",
    "\n",
    "1. The kNN algorithm has a validation flaw.\n",
    "\n",
    "2. In the kNN algorithm, the k value is chosen.\n",
    "\n",
    "3. A decision tree with inductive bias\n"
   ]
  },
  {
   "cell_type": "code",
   "execution_count": null,
   "id": "f2ac8ad2",
   "metadata": {},
   "outputs": [],
   "source": []
  },
  {
   "cell_type": "markdown",
   "id": "5830b034",
   "metadata": {},
   "source": [
    "#### 14. What are some of the benefits of the kNN algorithm?"
   ]
  },
  {
   "cell_type": "code",
   "execution_count": null,
   "id": "ae186a5b",
   "metadata": {},
   "outputs": [],
   "source": []
  },
  {
   "cell_type": "markdown",
   "id": "00d2525e",
   "metadata": {},
   "source": [
    "#### 15. What are some of the kNN algorithm's drawbacks?"
   ]
  },
  {
   "cell_type": "code",
   "execution_count": null,
   "id": "8943ba19",
   "metadata": {},
   "outputs": [],
   "source": []
  },
  {
   "cell_type": "markdown",
   "id": "abb583d7",
   "metadata": {},
   "source": [
    "#### 16. Explain the decision tree algorithm in a few words."
   ]
  },
  {
   "cell_type": "code",
   "execution_count": null,
   "id": "5fd3b2c9",
   "metadata": {},
   "outputs": [],
   "source": []
  },
  {
   "cell_type": "markdown",
   "id": "3a7bb76f",
   "metadata": {},
   "source": [
    "#### 17. What is the difference between a node and a leaf in a decision tree?"
   ]
  },
  {
   "cell_type": "code",
   "execution_count": null,
   "id": "6fbbe78b",
   "metadata": {},
   "outputs": [],
   "source": []
  },
  {
   "cell_type": "markdown",
   "id": "d75f2f0e",
   "metadata": {},
   "source": [
    "#### 18. What is a decision tree's entropy?"
   ]
  },
  {
   "cell_type": "code",
   "execution_count": null,
   "id": "620cc157",
   "metadata": {},
   "outputs": [],
   "source": []
  },
  {
   "cell_type": "markdown",
   "id": "8dcb9419",
   "metadata": {},
   "source": [
    "#### 19. In a decision tree, define knowledge gain."
   ]
  },
  {
   "cell_type": "code",
   "execution_count": null,
   "id": "cd7c6e07",
   "metadata": {},
   "outputs": [],
   "source": []
  },
  {
   "cell_type": "markdown",
   "id": "69a6ac5d",
   "metadata": {},
   "source": [
    "#### 20. Choose three advantages of the decision tree approach and write them down."
   ]
  },
  {
   "cell_type": "code",
   "execution_count": null,
   "id": "6fcb5fb5",
   "metadata": {},
   "outputs": [],
   "source": []
  },
  {
   "cell_type": "markdown",
   "id": "093ca2a6",
   "metadata": {},
   "source": [
    "#### 21. Make a list of three flaws in the decision tree process."
   ]
  },
  {
   "cell_type": "code",
   "execution_count": null,
   "id": "06c6311a",
   "metadata": {},
   "outputs": [],
   "source": []
  },
  {
   "cell_type": "markdown",
   "id": "b0d80780",
   "metadata": {},
   "source": [
    "#### 22. Briefly describe the random forest model."
   ]
  },
  {
   "cell_type": "code",
   "execution_count": null,
   "id": "2de14e09",
   "metadata": {},
   "outputs": [],
   "source": []
  }
 ],
 "metadata": {
  "kernelspec": {
   "display_name": "Python 3",
   "language": "python",
   "name": "python3"
  },
  "language_info": {
   "codemirror_mode": {
    "name": "ipython",
    "version": 3
   },
   "file_extension": ".py",
   "mimetype": "text/x-python",
   "name": "python",
   "nbconvert_exporter": "python",
   "pygments_lexer": "ipython3",
   "version": "3.8.8"
  }
 },
 "nbformat": 4,
 "nbformat_minor": 5
}

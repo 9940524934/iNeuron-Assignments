{
 "cells": [
  {
   "cell_type": "markdown",
   "id": "62dc089c",
   "metadata": {},
   "source": [
    "# Assignment 15 Solutions"
   ]
  },
  {
   "cell_type": "markdown",
   "id": "3ea2824c",
   "metadata": {},
   "source": [
    "#### 1. Please write a program using generator to print the numbers which can be divisible by 5 and 7 between 0 and n in comma separated form while n is input by console ?  \n",
    "**Example:**  \n",
    "If the following n is given as input to the program: `100`  \n",
    "Then, the output of the program should be: `0,35,70`  "
   ]
  },
  {
   "cell_type": "code",
   "execution_count": null,
   "id": "1fb66583",
   "metadata": {},
   "outputs": [],
   "source": []
  },
  {
   "cell_type": "markdown",
   "id": "22fd82eb",
   "metadata": {},
   "source": [
    "#### 2.Please write a program using generator to print the even numbers between 0 and n in comma separated form while n is input by console ?\n",
    "**Example:**  \n",
    "If the following n is given as input to the program: `10`  \n",
    "Then, the output of the program should be: `0,2,4,6,8,10`"
   ]
  },
  {
   "cell_type": "code",
   "execution_count": null,
   "id": "3e415e4c",
   "metadata": {},
   "outputs": [],
   "source": []
  },
  {
   "cell_type": "markdown",
   "id": "549ded1e",
   "metadata": {},
   "source": [
    "#### 3.The Fibonacci Sequence is computed based on the following formula below, Please write a program using list comprehension to print the Fibonacci Sequence in comma separated form with a given n input by console ?\n",
    "`f(n)=0 if n=0\n",
    "f(n)=1 if n=1\n",
    "f(n)=f(n-1)+f(n-2) if n>1` "
   ]
  },
  {
   "cell_type": "code",
   "execution_count": null,
   "id": "90585ee0",
   "metadata": {},
   "outputs": [],
   "source": []
  },
  {
   "cell_type": "markdown",
   "id": "03d71fc6",
   "metadata": {},
   "source": [
    "#### 4.Assuming that we have some email addresses in the \"username@companyname.com\" format, please write program to print the user name of a given email address. Both user names and company names are composed of letters only ?\n",
    "**Example:**   \n",
    "If the following email address is given as input to the program: `john@google.com`   \n",
    "Then, the output of the program should be: `john`"
   ]
  },
  {
   "cell_type": "code",
   "execution_count": 9,
   "id": "63af57a3",
   "metadata": {},
   "outputs": [
    {
     "name": "stdout",
     "output_type": "stream",
     "text": [
      "Enter Email Address(es): amanovishnu@gmail.com\n",
      "Username of amanovishnu@gmail.com is amanovishnu\n",
      "Enter Email Address(es): support.query@ineuron.ai\n",
      "Username of support.query@ineuron.ai is support.query\n",
      "Enter Email Address(es): manovishnu@outlook.com\n",
      "Username of manovishnu@outlook.com is manovishnu\n"
     ]
    }
   ],
   "source": [
    "def getUsernames():\n",
    "    in_string = input('Enter Email Address(es): ')\n",
    "    out_string = in_string.split('@')\n",
    "    print(f'Username of {in_string} is {out_string[0]}')\n",
    "\n",
    "for i in range(3):\n",
    "    getUsernames()"
   ]
  },
  {
   "cell_type": "markdown",
   "id": "8fbb0d51",
   "metadata": {},
   "source": [
    "#### 5.Define a class named Shape and its subclass Square. The Square class has an init function which takes a length as argument. Both classes have a area function which can print the area of the shape where Shape's area is 0 by default."
   ]
  },
  {
   "cell_type": "code",
   "execution_count": null,
   "id": "edcee9a6",
   "metadata": {},
   "outputs": [],
   "source": []
  }
 ],
 "metadata": {
  "kernelspec": {
   "display_name": "Python 3",
   "language": "python",
   "name": "python3"
  },
  "language_info": {
   "codemirror_mode": {
    "name": "ipython",
    "version": 3
   },
   "file_extension": ".py",
   "mimetype": "text/x-python",
   "name": "python",
   "nbconvert_exporter": "python",
   "pygments_lexer": "ipython3",
   "version": "3.8.8"
  }
 },
 "nbformat": 4,
 "nbformat_minor": 5
}

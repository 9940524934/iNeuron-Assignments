{
 "cells": [
  {
   "cell_type": "markdown",
   "id": "e2951151",
   "metadata": {},
   "source": [
    "# Assignment 25 Solutions"
   ]
  },
  {
   "cell_type": "markdown",
   "id": "84af1303",
   "metadata": {},
   "source": [
    "#### 1.Create a function that takes three integer arguments (a, b, c) and returns the amount of integers which are of equal value.\n",
    "**Examples:**  \n",
    "`equal(3, 4, 3) ➞ 2`  \n",
    "`equal(1, 1, 1) ➞ 3`  \n",
    "`equal(3, 4, 1) ➞ 0`  \n",
    "\n",
    "**Notes:**  \n",
    "Your function must return 0, 2 or 3."
   ]
  },
  {
   "cell_type": "code",
   "execution_count": null,
   "id": "e1853788",
   "metadata": {},
   "outputs": [],
   "source": []
  },
  {
   "cell_type": "markdown",
   "id": "3a880d02",
   "metadata": {},
   "source": [
    "#### 2.Write a function that converts a dictionary into a list of keys-values tuples.\n",
    "**Examples:**  \n",
    "`dict_to_list({\n",
    "\"D\": 1,\n",
    "\"B\": 2,\n",
    "\"C\": 3\n",
    "}) ➞ [(\"B\", 2), (\"C\", 3), (\"D\", 1)]\n",
    "dict_to_list({\n",
    "\"likes\": 2,\n",
    "\"dislikes\": 3,\n",
    "\"followers\": 10\n",
    "}) ➞ [(\"dislikes\", 3), (\"followers\", 10), (\"likes\", 2)]`\n",
    "\n",
    "**Notes:**  \n",
    "Return the elements in the list in alphabetical order."
   ]
  },
  {
   "cell_type": "code",
   "execution_count": null,
   "id": "2470a4da",
   "metadata": {},
   "outputs": [],
   "source": []
  },
  {
   "cell_type": "markdown",
   "id": "440aa907",
   "metadata": {},
   "source": [
    "#### 3.Write a function that creates a dictionary with each (key, value) pair being the (lower case, upper case) versions of a letter, respectively.\n",
    "**Examples:**  \n",
    "`mapping([\"p\", \"s\"]) ➞ { \"p\": \"P\", \"s\": \"S\" }`  \n",
    "`mapping([\"a\", \"b\", \"c\"]) ➞ { \"a\": \"A\", \"b\": \"B\", \"c\": \"C\" }`  \n",
    "`mapping([\"a\", \"v\", \"y\", \"z\"]) ➞ { \"a\": \"A\", \"v\": \"V\", \"y\": \"Y\", \"z\": \"Z\" }`  \n",
    "\n",
    "**Notes:**  \n",
    "All of the letters in the input list will always be lowercase."
   ]
  },
  {
   "cell_type": "code",
   "execution_count": null,
   "id": "0150a479",
   "metadata": {},
   "outputs": [],
   "source": []
  },
  {
   "cell_type": "markdown",
   "id": "e35b45e5",
   "metadata": {},
   "source": [
    "#### 4.Write a function, that replaces all vowels in a string with a specified vowel.\n",
    "**Examples:**  \n",
    "`vow_replace(\"apples and bananas\", \"u\") ➞ \"upplus und bununus\"`  \n",
    "`vow_replace(\"cheese casserole\", \"o\") ➞ \"chooso cossorolo\"`  \n",
    "`vow_replace(\"stuffed jalapeno poppers\", \"e\") ➞ \"steffed jelepene peppers\"`  \n",
    "\n",
    "**Notes:**   \n",
    "All words will be lowercase. Y is not considered a vowel."
   ]
  },
  {
   "cell_type": "code",
   "execution_count": null,
   "id": "f29523dc",
   "metadata": {},
   "outputs": [],
   "source": []
  },
  {
   "cell_type": "markdown",
   "id": "71a67c59",
   "metadata": {},
   "source": [
    "#### 5.Create a function that takes a string as input and capitalizes a letter if its ASCII code is even and returns its lower case version if its ASCII code is odd.\n",
    "**Examples:**  \n",
    "`ascii_capitalize(\"to be or not to be!\") ➞ \"To Be oR NoT To Be!\"`  \n",
    "`ascii_capitalize(\"THE LITTLE MERMAID\") ➞ \"THe LiTTLe meRmaiD\"`  \n",
    "`ascii_capitalize(\"Oh what a beautiful morning.\") ➞ \"oH wHaT a BeauTiFuL moRNiNg.\"`  "
   ]
  },
  {
   "cell_type": "code",
   "execution_count": null,
   "id": "6afe0c64",
   "metadata": {},
   "outputs": [],
   "source": []
  }
 ],
 "metadata": {
  "kernelspec": {
   "display_name": "Python 3",
   "language": "python",
   "name": "python3"
  },
  "language_info": {
   "codemirror_mode": {
    "name": "ipython",
    "version": 3
   },
   "file_extension": ".py",
   "mimetype": "text/x-python",
   "name": "python",
   "nbconvert_exporter": "python",
   "pygments_lexer": "ipython3",
   "version": "3.8.8"
  }
 },
 "nbformat": 4,
 "nbformat_minor": 5
}

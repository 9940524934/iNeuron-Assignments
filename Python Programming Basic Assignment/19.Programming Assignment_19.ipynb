{
 "cells": [
  {
   "cell_type": "markdown",
   "id": "63646903",
   "metadata": {},
   "source": [
    "# Assignment 19 Solutions"
   ]
  },
  {
   "cell_type": "markdown",
   "id": "a80b431a",
   "metadata": {},
   "source": [
    "#### 1.Create a function that takes a string and returns a string in which each character is repeated once.\n",
    "**Examples:**  \n",
    "`double_char(\"String\") ➞ \"SSttrriinngg\"`  \n",
    "`double_char(\"Hello World!\") ➞ \"HHeelllloo WWoorrlldd!!\"`  \n",
    "`doublechar(\"1234!_\") ➞ \"11223344!!__\"`  "
   ]
  },
  {
   "cell_type": "code",
   "execution_count": 8,
   "id": "7c34f85c",
   "metadata": {},
   "outputs": [
    {
     "name": "stdout",
     "output_type": "stream",
     "text": [
      "➞ SSttrriinngg\n",
      "➞ HHeelllloo  WWoorrlldd!!\n",
      "➞ 11223344!!__\n"
     ]
    }
   ],
   "source": [
    "def double_char(in_string):\n",
    "    out_string = ''\n",
    "    for ele in in_string:\n",
    "        out_string += ele*2\n",
    "    return out_string\n",
    "\n",
    "print(f'➞ {double_char(\"String\")}')\n",
    "print(f'➞ {double_char(\"Hello World!\")}')\n",
    "print(f'➞ {double_char(\"1234!_\")}')"
   ]
  },
  {
   "cell_type": "markdown",
   "id": "36c73da9",
   "metadata": {},
   "source": [
    "#### 2.Create a function that reverses a boolean value and returns the string \"boolean expected\" if another variable type is given.\n",
    "**Examples:**  \n",
    "`reverse(True) ➞ False`  \n",
    "`reverse(False) ➞ True`  \n",
    "`reverse(0) ➞ \"boolean expected\"`  \n",
    "`reverse(None) ➞ \"boolean expected\"`  "
   ]
  },
  {
   "cell_type": "code",
   "execution_count": null,
   "id": "84c7320e",
   "metadata": {},
   "outputs": [],
   "source": []
  },
  {
   "cell_type": "markdown",
   "id": "e6161ea2",
   "metadata": {},
   "source": [
    "#### 3. Create a function that returns the thickness (in meters) of a piece of paper after folding it n number of times. The paper starts off with a thickness of 0.5mm.\n",
    "**Examples:**  \n",
    "`num_layers(1) ➞ \"0.001m\"\n",
    "    # Paper folded once is 1mm (equal to 0.001m)\n",
    "num_layers(4) ➞ \"0.008m\"\n",
    "    # Paper folded 4 times is 8mm (equal to 0.008m)\n",
    "num_layers(21) ➞ \"1048.576m\"\n",
    "    # Paper folded 21 times is 1048576mm (equal to 1048.576m)`"
   ]
  },
  {
   "cell_type": "code",
   "execution_count": null,
   "id": "3abb23af",
   "metadata": {},
   "outputs": [],
   "source": []
  },
  {
   "cell_type": "markdown",
   "id": "c71bac5c",
   "metadata": {},
   "source": [
    "#### 4.Create a function that takes a single string as argument and returns an ordered list containing the indices of all capital letters in the string.\n",
    "**Examples:**  \n",
    "`index_of_caps(\"eDaBiT\") ➞ [1, 3, 5]`  \n",
    "`index_of_caps(\"eQuINoX\") ➞ [1, 3, 4, 6]`  \n",
    "`index_of_caps(\"determine\") ➞ []`  \n",
    "`index_of_caps(\"STRIKE\") ➞ [0, 1, 2, 3, 4, 5]`  \n",
    "`index_of_caps(\"sUn\") ➞ [1]`  "
   ]
  },
  {
   "cell_type": "code",
   "execution_count": null,
   "id": "e6ce83db",
   "metadata": {},
   "outputs": [],
   "source": []
  },
  {
   "cell_type": "markdown",
   "id": "11770ca9",
   "metadata": {},
   "source": [
    "#### 5.Using list comprehensions, create a function that finds all even numbers from 1 to the given number.\n",
    "**Examples:**  \n",
    "`find_even_nums(8) ➞ [2, 4, 6, 8]`  \n",
    "`find_even_nums(4) ➞ [2, 4]`   \n",
    "`find_even_nums(2) ➞ [2]`  "
   ]
  },
  {
   "cell_type": "code",
   "execution_count": null,
   "id": "3609695d",
   "metadata": {},
   "outputs": [],
   "source": []
  }
 ],
 "metadata": {
  "kernelspec": {
   "display_name": "Python 3",
   "language": "python",
   "name": "python3"
  },
  "language_info": {
   "codemirror_mode": {
    "name": "ipython",
    "version": 3
   },
   "file_extension": ".py",
   "mimetype": "text/x-python",
   "name": "python",
   "nbconvert_exporter": "python",
   "pygments_lexer": "ipython3",
   "version": "3.8.8"
  }
 },
 "nbformat": 4,
 "nbformat_minor": 5
}

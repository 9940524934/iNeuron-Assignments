{
 "cells": [
  {
   "cell_type": "markdown",
   "id": "b2aa57f2",
   "metadata": {},
   "source": [
    "# Assignment 03 Solutions"
   ]
  },
  {
   "cell_type": "markdown",
   "id": "27105f5b",
   "metadata": {},
   "source": [
    "#### 1.Explain the term machine learning, and how does it work? Explain two machine learning applications in the business world. What are some of the ethical concerns that machine learning applications could raise?"
   ]
  },
  {
   "cell_type": "code",
   "execution_count": null,
   "id": "1908b649",
   "metadata": {},
   "outputs": [],
   "source": []
  },
  {
   "cell_type": "markdown",
   "id": "8b30805b",
   "metadata": {},
   "source": [
    "#### 2. Describe the process of human learning:\n",
    "1. Under the supervision of experts\n",
    "2. With the assistance of experts in an indirect manner\n",
    "3. Self-education"
   ]
  },
  {
   "cell_type": "code",
   "execution_count": null,
   "id": "9a143440",
   "metadata": {},
   "outputs": [],
   "source": []
  },
  {
   "cell_type": "markdown",
   "id": "9a01f8a7",
   "metadata": {},
   "source": [
    "#### 3. Provide a few examples of various types of machine learning."
   ]
  },
  {
   "cell_type": "code",
   "execution_count": null,
   "id": "a61de73b",
   "metadata": {},
   "outputs": [],
   "source": []
  },
  {
   "cell_type": "markdown",
   "id": "f9f33b3a",
   "metadata": {},
   "source": [
    "#### 4. Examine the various forms of machine learning."
   ]
  },
  {
   "cell_type": "code",
   "execution_count": null,
   "id": "3395c1d6",
   "metadata": {},
   "outputs": [],
   "source": []
  },
  {
   "cell_type": "markdown",
   "id": "af908627",
   "metadata": {},
   "source": [
    "#### 5. Can you explain what a well-posed learning problem is? Explain the main characteristics that must be present to identify a learning problem properly."
   ]
  },
  {
   "cell_type": "code",
   "execution_count": null,
   "id": "e6c376c0",
   "metadata": {},
   "outputs": [],
   "source": []
  },
  {
   "cell_type": "markdown",
   "id": "ebca5c04",
   "metadata": {},
   "source": [
    "#### 6. Is machine learning capable of solving all problems? Give a detailed explanation of your answer."
   ]
  },
  {
   "cell_type": "code",
   "execution_count": null,
   "id": "a8d0e675",
   "metadata": {},
   "outputs": [],
   "source": []
  },
  {
   "cell_type": "markdown",
   "id": "32c4f154",
   "metadata": {},
   "source": [
    "#### 7. What are the various methods and technologies for solving machine learning problems? Any two of them should be defined in detail."
   ]
  },
  {
   "cell_type": "code",
   "execution_count": null,
   "id": "75f3c2e3",
   "metadata": {},
   "outputs": [],
   "source": []
  },
  {
   "cell_type": "markdown",
   "id": "3b5a2176",
   "metadata": {},
   "source": [
    "#### 8. Can you explain the various forms of supervised learning? Explain each one with an example application."
   ]
  },
  {
   "cell_type": "code",
   "execution_count": null,
   "id": "b08717eb",
   "metadata": {},
   "outputs": [],
   "source": []
  },
  {
   "cell_type": "markdown",
   "id": "534fddf8",
   "metadata": {},
   "source": [
    "#### 9. What is the difference between supervised and unsupervised learning? With a sample application in each region, explain the differences."
   ]
  },
  {
   "cell_type": "code",
   "execution_count": null,
   "id": "63372051",
   "metadata": {},
   "outputs": [],
   "source": []
  },
  {
   "cell_type": "markdown",
   "id": "6ca02704",
   "metadata": {},
   "source": [
    "#### 10. Describe the machine learning process in depth.\n",
    "0. Make brief notes on any two of the following:\n",
    "1. MATLAB is one of the most widely used programming languages.\n",
    "2. Deep learning applications in healthcare\n",
    "3. Study of the market basket\n",
    "4. Linear regression (simple)"
   ]
  },
  {
   "cell_type": "code",
   "execution_count": null,
   "id": "5ff321f4",
   "metadata": {},
   "outputs": [],
   "source": []
  },
  {
   "cell_type": "markdown",
   "id": "1a7ef754",
   "metadata": {},
   "source": [
    "#### 11. Make a comparison between:-\n",
    "1. Generalization and abstraction\n",
    "2. Learning that is guided and unsupervised\n",
    "3. Regression and classification"
   ]
  },
  {
   "cell_type": "code",
   "execution_count": null,
   "id": "7da0660a",
   "metadata": {},
   "outputs": [],
   "source": []
  }
 ],
 "metadata": {
  "kernelspec": {
   "display_name": "Python 3",
   "language": "python",
   "name": "python3"
  },
  "language_info": {
   "codemirror_mode": {
    "name": "ipython",
    "version": 3
   },
   "file_extension": ".py",
   "mimetype": "text/x-python",
   "name": "python",
   "nbconvert_exporter": "python",
   "pygments_lexer": "ipython3",
   "version": "3.8.8"
  }
 },
 "nbformat": 4,
 "nbformat_minor": 5
}

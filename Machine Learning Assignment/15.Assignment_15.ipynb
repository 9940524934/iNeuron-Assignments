{
 "cells": [
  {
   "cell_type": "markdown",
   "id": "b2aa57f2",
   "metadata": {},
   "source": [
    "# Assignment 15 Solutions"
   ]
  },
  {
   "cell_type": "markdown",
   "id": "111120c6",
   "metadata": {},
   "source": [
    "#### 1. Recognize the differences between supervised, semi-supervised, and unsupervised learning."
   ]
  },
  {
   "cell_type": "code",
   "execution_count": null,
   "id": "d837076b",
   "metadata": {},
   "outputs": [],
   "source": []
  },
  {
   "cell_type": "markdown",
   "id": "4ae857d4",
   "metadata": {},
   "source": [
    "#### 2. Describe in detail any five examples of classification problems."
   ]
  },
  {
   "cell_type": "code",
   "execution_count": null,
   "id": "7e322c78",
   "metadata": {},
   "outputs": [],
   "source": []
  },
  {
   "cell_type": "markdown",
   "id": "c981ac1e",
   "metadata": {},
   "source": [
    "#### 3. Describe each phase of the classification process in detail."
   ]
  },
  {
   "cell_type": "code",
   "execution_count": null,
   "id": "a0f4da69",
   "metadata": {},
   "outputs": [],
   "source": []
  },
  {
   "cell_type": "markdown",
   "id": "07ab2a64",
   "metadata": {},
   "source": [
    "#### 4. Go through the SVM model in depth using various scenarios."
   ]
  },
  {
   "cell_type": "code",
   "execution_count": null,
   "id": "0122c1cd",
   "metadata": {},
   "outputs": [],
   "source": []
  },
  {
   "cell_type": "markdown",
   "id": "0be2162e",
   "metadata": {},
   "source": [
    "#### 5. What are some of the benefits and drawbacks of SVM?"
   ]
  },
  {
   "cell_type": "code",
   "execution_count": null,
   "id": "33a49f49",
   "metadata": {},
   "outputs": [],
   "source": []
  },
  {
   "cell_type": "markdown",
   "id": "a96163dd",
   "metadata": {},
   "source": [
    "#### 6. Go over the kNN model in depth."
   ]
  },
  {
   "cell_type": "code",
   "execution_count": null,
   "id": "cdbb7e41",
   "metadata": {},
   "outputs": [],
   "source": []
  },
  {
   "cell_type": "markdown",
   "id": "6b3b649e",
   "metadata": {},
   "source": [
    "#### 7. Discuss the kNN algorithm's error rate and validation error."
   ]
  },
  {
   "cell_type": "code",
   "execution_count": null,
   "id": "35ee91c7",
   "metadata": {},
   "outputs": [],
   "source": []
  },
  {
   "cell_type": "markdown",
   "id": "54020cf8",
   "metadata": {},
   "source": [
    "#### 8. For kNN, talk about how to measure the difference between the test and training results."
   ]
  },
  {
   "cell_type": "code",
   "execution_count": null,
   "id": "f3ace5df",
   "metadata": {},
   "outputs": [],
   "source": []
  },
  {
   "cell_type": "markdown",
   "id": "9db681d1",
   "metadata": {},
   "source": [
    "#### 9. Create the kNN algorithm. "
   ]
  },
  {
   "cell_type": "code",
   "execution_count": null,
   "id": "36f45205",
   "metadata": {},
   "outputs": [],
   "source": []
  },
  {
   "cell_type": "markdown",
   "id": "5b686929",
   "metadata": {},
   "source": [
    "#### 10. What is a decision tree, exactly? What are the various kinds of nodes? Explain all in depth."
   ]
  },
  {
   "cell_type": "code",
   "execution_count": null,
   "id": "665ae149",
   "metadata": {},
   "outputs": [],
   "source": []
  },
  {
   "cell_type": "markdown",
   "id": "3e636eaf",
   "metadata": {},
   "source": [
    "#### 11. Describe the different ways to scan a decision tree."
   ]
  },
  {
   "cell_type": "code",
   "execution_count": null,
   "id": "0d73293b",
   "metadata": {},
   "outputs": [],
   "source": []
  },
  {
   "cell_type": "markdown",
   "id": "64feb7de",
   "metadata": {},
   "source": [
    "#### 12. Describe in depth the decision tree algorithm."
   ]
  },
  {
   "cell_type": "code",
   "execution_count": null,
   "id": "0d1782e4",
   "metadata": {},
   "outputs": [],
   "source": []
  },
  {
   "cell_type": "markdown",
   "id": "bcec9c51",
   "metadata": {},
   "source": [
    "#### 13. In a decision tree, what is inductive bias? What would you do to stop overfitting?"
   ]
  },
  {
   "cell_type": "code",
   "execution_count": null,
   "id": "93383a82",
   "metadata": {},
   "outputs": [],
   "source": []
  },
  {
   "cell_type": "markdown",
   "id": "5830b034",
   "metadata": {},
   "source": [
    "#### 14.Explain advantages and disadvantages of using a decision tree?"
   ]
  },
  {
   "cell_type": "code",
   "execution_count": null,
   "id": "9b16ded6",
   "metadata": {},
   "outputs": [],
   "source": []
  },
  {
   "cell_type": "markdown",
   "id": "2818226b",
   "metadata": {},
   "source": [
    "#### 15. Describe in depth the problems that are suitable for decision tree learning."
   ]
  },
  {
   "cell_type": "code",
   "execution_count": null,
   "id": "929f39f2",
   "metadata": {},
   "outputs": [],
   "source": []
  },
  {
   "cell_type": "markdown",
   "id": "87a0ef47",
   "metadata": {},
   "source": [
    "#### 16. Describe in depth the random forest model. What distinguishes a random forest?"
   ]
  },
  {
   "cell_type": "code",
   "execution_count": null,
   "id": "0c8f0290",
   "metadata": {},
   "outputs": [],
   "source": []
  },
  {
   "cell_type": "markdown",
   "id": "77911f59",
   "metadata": {},
   "source": [
    "#### 17. In a random forest, talk about OOB error and variable value."
   ]
  },
  {
   "cell_type": "code",
   "execution_count": null,
   "id": "7780c5d9",
   "metadata": {},
   "outputs": [],
   "source": []
  }
 ],
 "metadata": {
  "kernelspec": {
   "display_name": "Python 3",
   "language": "python",
   "name": "python3"
  },
  "language_info": {
   "codemirror_mode": {
    "name": "ipython",
    "version": 3
   },
   "file_extension": ".py",
   "mimetype": "text/x-python",
   "name": "python",
   "nbconvert_exporter": "python",
   "pygments_lexer": "ipython3",
   "version": "3.8.8"
  }
 },
 "nbformat": 4,
 "nbformat_minor": 5
}

{
 "cells": [
  {
   "cell_type": "markdown",
   "id": "4b2b3d88",
   "metadata": {},
   "source": [
    "# Assignment 7 Solutions"
   ]
  },
  {
   "cell_type": "markdown",
   "id": "982750fa",
   "metadata": {},
   "source": [
    "#### Q-13. Write an SQL query to show only odd rows from a table."
   ]
  },
  {
   "cell_type": "code",
   "execution_count": null,
   "id": "66b46812",
   "metadata": {},
   "outputs": [],
   "source": []
  },
  {
   "cell_type": "markdown",
   "id": "59ae0ae8",
   "metadata": {},
   "source": [
    "#### Q-14. Write an SQL query to clone a new table from another table."
   ]
  },
  {
   "cell_type": "code",
   "execution_count": null,
   "id": "12c76c10",
   "metadata": {},
   "outputs": [],
   "source": []
  }
 ],
 "metadata": {
  "kernelspec": {
   "display_name": "Python 3",
   "language": "python",
   "name": "python3"
  },
  "language_info": {
   "codemirror_mode": {
    "name": "ipython",
    "version": 3
   },
   "file_extension": ".py",
   "mimetype": "text/x-python",
   "name": "python",
   "nbconvert_exporter": "python",
   "pygments_lexer": "ipython3",
   "version": "3.8.8"
  }
 },
 "nbformat": 4,
 "nbformat_minor": 5
}
